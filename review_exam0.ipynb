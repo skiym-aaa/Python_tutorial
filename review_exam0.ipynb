{
 "cells": [
  {
   "cell_type": "code",
   "execution_count": 2,
   "metadata": {},
   "outputs": [
    {
     "name": "stdout",
     "output_type": "stream",
     "text": [
      "(8.0, 10)\n"
     ]
    }
   ],
   "source": [
    "# 1\n",
    "a = 2\n",
    "b = 5\n",
    "\n",
    "c = 3.0 + b, 5 * a\n",
    "\n",
    "print(c)"
   ]
  },
  {
   "cell_type": "code",
   "execution_count": 5,
   "metadata": {},
   "outputs": [
    {
     "name": "stdout",
     "output_type": "stream",
     "text": [
      "D:\\home\n",
      "ame\\python\n",
      "D:\\home\\name\\python\n"
     ]
    }
   ],
   "source": [
    "# 2\n",
    "\n",
    "print('D:\\home\\name\\python')\n",
    "print(r'D:\\home\\name\\python')\n",
    "\n",
    "# raw文字列の問題\n",
    "# \\nは改行になるので、最初の引用符の前に'r'を置く。"
   ]
  },
  {
   "cell_type": "code",
   "execution_count": 6,
   "metadata": {},
   "outputs": [],
   "source": [
    "# 3\n",
    "\n",
    "quit()\n",
    "# pythonインタープリタを終了するコマンド"
   ]
  },
  {
   "cell_type": "code",
   "execution_count": 2,
   "metadata": {},
   "outputs": [
    {
     "data": {
      "text/plain": [
       "[1, 8, 27, 64, 125]"
      ]
     },
     "execution_count": 2,
     "metadata": {},
     "output_type": "execute_result"
    }
   ],
   "source": [
    "# 4\n",
    "\n",
    "cubes = [1,8,27,65,125]\n",
    "4 ** 3\n",
    "cubes[3] = 64\n",
    "cubes\n",
    "\n",
    "# 文字列は変更不能体(immutable)\n",
    "# リストは変更可能体(mutable)"
   ]
  },
  {
   "cell_type": "code",
   "execution_count": 4,
   "metadata": {},
   "outputs": [],
   "source": [
    "# 5\n",
    "\n",
    "# deactivate\n",
    "\n",
    "# アクティベート状態から抜けるコマンド\n",
    "# source bin/activate = アクティベートにするコマンド"
   ]
  },
  {
   "cell_type": "code",
   "execution_count": 6,
   "metadata": {},
   "outputs": [
    {
     "name": "stdout",
     "output_type": "stream",
     "text": [
      "Miyashita\n",
      "['Noro', 'Nakao', 'Miyaoka', 'Shibata', 'Kimura']\n"
     ]
    }
   ],
   "source": [
    "# 6\n",
    "\n",
    "dive_into_code = ['Noro', 'Nakao', 'Miyaoka', 'Miyashita', 'Shibata', 'Kimura']\n",
    "\n",
    "print(dive_into_code.pop(3))\n",
    "# 指定された一のアイテムをリストから削除し、このアイテムを返す\n",
    "# 指定しない場合は最後のアイテムを返す\n",
    "\n",
    "print(dive_into_code)"
   ]
  },
  {
   "cell_type": "code",
   "execution_count": 7,
   "metadata": {},
   "outputs": [
    {
     "name": "stdout",
     "output_type": "stream",
     "text": [
      "29\n"
     ]
    }
   ],
   "source": [
    "# 7\n",
    "\n",
    "print(5 ** 2 + 4)"
   ]
  },
  {
   "cell_type": "code",
   "execution_count": 8,
   "metadata": {},
   "outputs": [
    {
     "name": "stdout",
     "output_type": "stream",
     "text": [
      "diveinto\n"
     ]
    }
   ],
   "source": [
    "# 8\n",
    "\n",
    "d = 'diveinto'\n",
    "\n",
    "d + 'code'\n",
    "\n",
    "print(d)"
   ]
  },
  {
   "cell_type": "code",
   "execution_count": 9,
   "metadata": {},
   "outputs": [
    {
     "name": "stdout",
     "output_type": "stream",
     "text": [
      "DiveDiveDiveintoCode\n"
     ]
    }
   ],
   "source": [
    "# 9\n",
    "\n",
    "print(3 * 'Dive' + 'into' + 'Code')"
   ]
  },
  {
   "cell_type": "code",
   "execution_count": 13,
   "metadata": {},
   "outputs": [
    {
     "data": {
      "text/plain": [
       "7.44"
      ]
     },
     "execution_count": 13,
     "metadata": {},
     "output_type": "execute_result"
    }
   ],
   "source": [
    "# 10\n",
    "\n",
    "3*3.72/1.5\n",
    "\n",
    "# 標準の除算なのでfloatを返す\n",
    "# 切り下げ除算は'//''\n",
    "# 3*3.72//1.5"
   ]
  },
  {
   "cell_type": "code",
   "execution_count": 14,
   "metadata": {},
   "outputs": [],
   "source": [
    "# 11\n",
    "\n",
    "# 複素数の虚部を示すのに接頭辞[j]または[J]\n",
    "# 虚数とは-1の平方根を実数倍したもの"
   ]
  },
  {
   "cell_type": "code",
   "execution_count": 16,
   "metadata": {},
   "outputs": [],
   "source": [
    "# 12\n",
    "\n",
    "# クリーンアップ動作\n",
    "# with open(\"myfile.txt\") as f:\n",
    "#     for line in f:\n",
    "#         print(line, end =\"\")\n",
    "\n",
    "# コマンド実行後、ファイルfは必ずクローズされる"
   ]
  },
  {
   "cell_type": "code",
   "execution_count": 17,
   "metadata": {},
   "outputs": [],
   "source": [
    "# 13\n",
    "\n",
    "# ログを取得するためのモジュール\n",
    "# logging"
   ]
  },
  {
   "cell_type": "code",
   "execution_count": 18,
   "metadata": {},
   "outputs": [
    {
     "name": "stdout",
     "output_type": "stream",
     "text": [
      "{\"name\": \"yamada\", \"data\": [2, 3, 4]}\n"
     ]
    }
   ],
   "source": [
    "# 14\n",
    "\n",
    "import json\n",
    "x = {'name':'yamada','data':[2,3,4]}\n",
    "print(json.dumps(x))\n",
    "\n",
    "# dumps関数とはデータをJSON形式にエンコードすることのできる関数\n",
    "# dump関数は、ファイルとして保存するための関数で、dumps関数はエンコード(辞書型を文字列に変換)するための関数"
   ]
  },
  {
   "cell_type": "code",
   "execution_count": 19,
   "metadata": {},
   "outputs": [
    {
     "name": "stdout",
     "output_type": "stream",
     "text": [
      "出力結果:\n",
      "0\n",
      "1\n",
      "2\n",
      "3\n",
      "4\n",
      "5\n",
      "6\n",
      "7\n",
      "8\n",
      "9\n"
     ]
    }
   ],
   "source": [
    "# 15\n",
    "\n",
    "print(\"出力結果:\")\n",
    "for num in range(10):\n",
    "  print(num)"
   ]
  },
  {
   "cell_type": "code",
   "execution_count": 21,
   "metadata": {},
   "outputs": [
    {
     "data": {
      "text/plain": [
       "['3.0', '3.1', '3.14', '3.142', '3.1416']"
      ]
     },
     "execution_count": 21,
     "metadata": {},
     "output_type": "execute_result"
    }
   ],
   "source": [
    "# 16\n",
    "\n",
    "from math import pi\n",
    "[str(round(pi, i)) for i in range(0, 5)]"
   ]
  },
  {
   "cell_type": "code",
   "execution_count": 22,
   "metadata": {},
   "outputs": [],
   "source": [
    "# 17\n",
    "\n",
    "# pass\n",
    "# 構文的に文が必要なのに、プログラム的には何もする必要がないときに使う構文"
   ]
  },
  {
   "cell_type": "code",
   "execution_count": 23,
   "metadata": {},
   "outputs": [],
   "source": [
    "# 18\n",
    "\n",
    "# Pythonの対話型インタープリンタ\n",
    "# 「IPython」"
   ]
  },
  {
   "cell_type": "code",
   "execution_count": 24,
   "metadata": {},
   "outputs": [
    {
     "name": "stdout",
     "output_type": "stream",
     "text": [
      "suzuki\n"
     ]
    }
   ],
   "source": [
    "# 19\n",
    "\n",
    "name1,name2,name3,name4= '', 'suzuki','tanaka','sato'\n",
    "selected_name = name1 or name2 or name3 or name4\n",
    "print(selected_name)\n",
    "# 短絡演算子(and,or)結論が決定した時点で評価をやめる。"
   ]
  },
  {
   "cell_type": "code",
   "execution_count": 25,
   "metadata": {},
   "outputs": [],
   "source": [
    "# 20\n",
    "\n",
    "# 優先順位 not,and,or"
   ]
  },
  {
   "cell_type": "code",
   "execution_count": 28,
   "metadata": {},
   "outputs": [
    {
     "name": "stdout",
     "output_type": "stream",
     "text": [
      "0は3で割り切れます 3は3で割り切れます 6は3で割り切れます 9は3で割り切れます "
     ]
    }
   ],
   "source": [
    "# 21\n",
    "\n",
    "for i in range(20):\n",
    "    if i%3 == 0:\n",
    "        print(\"{}は3で割り切れます\".format(i), end=' ')\n",
    "    elif i>8 and i%2 == 0:\n",
    "        break\n",
    "    else:\n",
    "        continue "
   ]
  },
  {
   "cell_type": "code",
   "execution_count": 29,
   "metadata": {},
   "outputs": [],
   "source": [
    "# 22\n",
    "\n",
    "# pip list\n",
    "# pip install パッケージ名\n",
    "# pip install パッケージ名==version\n",
    "# pip install --upgrade\n",
    "# pip uninstall パッケージ名\n",
    "# pip show パッケージ名"
   ]
  },
  {
   "cell_type": "code",
   "execution_count": 30,
   "metadata": {},
   "outputs": [],
   "source": [
    "# 23\n",
    "\n",
    "# タブ補完\n",
    "# 変数とモジュール名の補完はインタープリタの起動時に自動で有効になっており、[Tab]キーで補完機能が呼び出せる。"
   ]
  },
  {
   "cell_type": "code",
   "execution_count": 35,
   "metadata": {},
   "outputs": [
    {
     "name": "stdout",
     "output_type": "stream",
     "text": [
      "出力結果: データ1 データ2 "
     ]
    }
   ],
   "source": [
    "# 24\n",
    "\n",
    "class Sample:\n",
    "\n",
    "  c_list = []\n",
    "\n",
    "  def add_c_list(self,data):\n",
    "    self.c_list.append(data)\n",
    "\n",
    "print(\"出力結果:\", end=\" \")\n",
    "sample1 = Sample()\n",
    "sample1.add_c_list(\"データ1\")\n",
    "\n",
    "sample2 = Sample()\n",
    "sample2.add_c_list(\"データ2\")\n",
    "\n",
    "for item_data in sample1.c_list:\n",
    "  print(item_data, end=\" \")"
   ]
  },
  {
   "cell_type": "code",
   "execution_count": 39,
   "metadata": {},
   "outputs": [
    {
     "name": "stdout",
     "output_type": "stream",
     "text": [
      "[(4, 'Kimura'), (3, 'Miyaoka'), (2, 'Nakao'), (1, 'Noro')]\n"
     ]
    }
   ],
   "source": [
    "# 25\n",
    "\n",
    "dive_into_code = [(1, 'Noro'), (2, 'Nakao'), (3, 'Miyaoka'), (4, 'Kimura')]\n",
    "dic = dive_into_code\n",
    "dic.sort(key=lambda dic: dic[1]) #lamda=無名関数　\n",
    "\n",
    "print(dic)"
   ]
  },
  {
   "cell_type": "code",
   "execution_count": 42,
   "metadata": {},
   "outputs": [
    {
     "name": "stdout",
     "output_type": "stream",
     "text": [
      "[3, 8]\n"
     ]
    }
   ],
   "source": [
    "# 26\n",
    "\n",
    "num = [[1, 2, 3, 4, 5],\n",
    "       [6, 7, 8, 9, 10]]\n",
    "\n",
    "col = [row[2] for row in num]\n",
    "\n",
    "print(col)"
   ]
  },
  {
   "cell_type": "code",
   "execution_count": 43,
   "metadata": {},
   "outputs": [
    {
     "name": "stdout",
     "output_type": "stream",
     "text": [
      "10\n"
     ]
    }
   ],
   "source": [
    "# 27\n",
    "\n",
    "i = 10\n",
    "\n",
    "def num(arg=i):\n",
    "    print(arg)\n",
    "\n",
    "i = 7\n",
    "\n",
    "num()"
   ]
  },
  {
   "cell_type": "code",
   "execution_count": 45,
   "metadata": {},
   "outputs": [],
   "source": [
    "# 28\n",
    "\n",
    "t = 123,345,'test'\n",
    "t = (123,345,'test')"
   ]
  },
  {
   "cell_type": "code",
   "execution_count": 46,
   "metadata": {},
   "outputs": [],
   "source": [
    "# 29\n",
    "\n",
    "# パッケージ = 「ドット区切りモジュール名」を使ってPythonのモジュールを構築する方法。"
   ]
  },
  {
   "cell_type": "code",
   "execution_count": 47,
   "metadata": {},
   "outputs": [
    {
     "name": "stdout",
     "output_type": "stream",
     "text": [
      "出力結果:\n",
      "予期せぬ問題発生: Exception発生\n"
     ]
    }
   ],
   "source": [
    "# 30\n",
    "\n",
    "print(\"出力結果:\")\n",
    "try:\n",
    "  raise Exception(\"開始前\",\"Exception発生\")\n",
    "  print(\"開始\")\n",
    "except IOError as msg:\n",
    "  print(\"IOError発生:\",msg.args[0])\n",
    "except Exception as msg:\n",
    "  print(\"予期せぬ問題発生:\",msg.args[1])\n",
    "else:\n",
    "  print(\"Else表示\")"
   ]
  },
  {
   "cell_type": "code",
   "execution_count": 50,
   "metadata": {},
   "outputs": [
    {
     "name": "stdout",
     "output_type": "stream",
     "text": [
      "['a', 'b']\n"
     ]
    }
   ],
   "source": [
    "# 31\n",
    "\n",
    "x = [\"a\",\"b\",\"c\",\"d\",\"e\"]\n",
    "print(x[:-3])"
   ]
  },
  {
   "cell_type": "code",
   "execution_count": 51,
   "metadata": {},
   "outputs": [],
   "source": [
    "# 32\n",
    "\n",
    "# pyvenv"
   ]
  },
  {
   "cell_type": "code",
   "execution_count": 52,
   "metadata": {},
   "outputs": [
    {
     "name": "stdout",
     "output_type": "stream",
     "text": [
      "title_default content 5\n"
     ]
    }
   ],
   "source": [
    "# 33\n",
    "\n",
    "def fugafuga(title,content = 'default_content', number = 4):\n",
    "    content = 'content' #ここでcontentの定義\n",
    "    print(title, end=' ')\n",
    "    print(content, end=' ')\n",
    "    print(number)\n",
    " \n",
    "fugafuga(title = 'title_default', content = 'None', number = 5) "
   ]
  },
  {
   "cell_type": "code",
   "execution_count": 53,
   "metadata": {},
   "outputs": [
    {
     "name": "stdout",
     "output_type": "stream",
     "text": [
      "ienoo\n"
     ]
    }
   ],
   "source": [
    "# 34\n",
    "\n",
    "dic = 'diveintocode'\n",
    "\n",
    "print(dic[1:10:2])"
   ]
  },
  {
   "cell_type": "code",
   "execution_count": 54,
   "metadata": {},
   "outputs": [
    {
     "name": "stdout",
     "output_type": "stream",
     "text": [
      "[0, 1, 2, 3, 4]\n"
     ]
    }
   ],
   "source": [
    "# 35\n",
    "\n",
    "print(list(range(5)))"
   ]
  },
  {
   "cell_type": "code",
   "execution_count": 55,
   "metadata": {},
   "outputs": [],
   "source": [
    "# 36\n",
    "\n",
    "# open関数\n",
    "# 読み取り専用=r,書き出し専用=w,読み書き両方=r+,書き込みデータをファイルの末尾に自動的に加える=a"
   ]
  },
  {
   "cell_type": "code",
   "execution_count": 56,
   "metadata": {},
   "outputs": [
    {
     "name": "stdout",
     "output_type": "stream",
     "text": [
      "こんにちは!山田さん\n"
     ]
    }
   ],
   "source": [
    "# 37\n",
    "\n",
    "print('こんにちは!{}さん'.format('山田'))"
   ]
  },
  {
   "cell_type": "code",
   "execution_count": 57,
   "metadata": {},
   "outputs": [
    {
     "name": "stdout",
     "output_type": "stream",
     "text": [
      "[1, 2, 4]\n"
     ]
    }
   ],
   "source": [
    "# 38\n",
    "\n",
    "member = {1: 'Noro', 2: 'Nakao', 3: 'Miyaoka'}\n",
    "member[4] = 'Kimura'\n",
    "del member[3]\n",
    "print(list(member.keys()))"
   ]
  },
  {
   "cell_type": "code",
   "execution_count": 58,
   "metadata": {},
   "outputs": [],
   "source": [
    "# 39\n",
    "\n",
    "# コンパイル済Pythonファイルの拡張子=pyc(pyファイルをコンパイルした結果)"
   ]
  },
  {
   "cell_type": "code",
   "execution_count": 59,
   "metadata": {},
   "outputs": [
    {
     "name": "stdout",
     "output_type": "stream",
     "text": [
      "['dd', 'ii', 'vv', 'ee', 'rr']\n"
     ]
    }
   ],
   "source": [
    "# 40\n",
    "\n",
    "diver = [d * 2 for d in 'diver']\n",
    "\n",
    "print(diver)"
   ]
  },
  {
   "cell_type": "code",
   "execution_count": null,
   "metadata": {},
   "outputs": [],
   "source": []
  }
 ],
 "metadata": {
  "kernelspec": {
   "display_name": "Python 3",
   "language": "python",
   "name": "python3"
  },
  "language_info": {
   "codemirror_mode": {
    "name": "ipython",
    "version": 3
   },
   "file_extension": ".py",
   "mimetype": "text/x-python",
   "name": "python",
   "nbconvert_exporter": "python",
   "pygments_lexer": "ipython3",
   "version": "3.7.6"
  }
 },
 "nbformat": 4,
 "nbformat_minor": 4
}
