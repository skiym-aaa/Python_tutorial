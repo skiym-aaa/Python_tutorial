{
 "cells": [
  {
   "cell_type": "code",
   "execution_count": 1,
   "metadata": {},
   "outputs": [],
   "source": [
    "# 1章　食欲をそそってみようか(1,2.5%)\n",
    "\n",
    "# Pythonの特徴\n",
    "# ・高水準のデータ型が、複雑な操作を単一文で表記することを可能にしている。\n",
    "# ・文のグルーピングは、カッコで囲うことではなくインデントで行われる。\n",
    "# ・変数や引数の宣言が不要。\n",
    "\n",
    "# pythonはインタプリンタ型"
   ]
  },
  {
   "cell_type": "code",
   "execution_count": 13,
   "metadata": {},
   "outputs": [],
   "source": [
    "# 2章　Pythonインタープリタの使い方(1,2.5%)\n",
    "\n",
    "# pythonインタープリタを終了するコマンド ファイル終端キャラクタ or 'quit()'\n",
    "\n",
    "# インタープリタを起動するには 'python -c コマンド[引数]...'という方法もある。\n",
    "# 'python -m モジュール名[引数]...'\n",
    "\n",
    "# インタープリタで引数を知らされると文字列のリストとなりsysモジュールのargvに割り当てられる。\n",
    "# import sysでこのリストにアクセスできる。\n",
    "\n",
    "# coding: エンコーディング名 でUTF-8ではなくエンコーディング名で指定したエンコーディングをしたものとして扱われる。"
   ]
  },
  {
   "cell_type": "code",
   "execution_count": 5,
   "metadata": {},
   "outputs": [
    {
     "name": "stdout",
     "output_type": "stream",
     "text": [
      "\"Isn't,\" she said.\n",
      "\n",
      "Usage:things[OPTIONS]\n",
      "    -h\n",
      "    -H hostname\n",
      "\n"
     ]
    }
   ],
   "source": [
    "# 3章　気楽な入門編(6,15.0%)\n",
    "\n",
    "# 除算は常にfloatを返す　演算対象の型が混合していた場合はfloat\n",
    "# '//'は剰余の切り捨て'%'は剰余のみ\n",
    "# 対話モードでは、最後に表示した式を変数「_(アンダースコア)」に代入してある。\n",
    "# べき剰は右から演算が行われる。\n",
    "\n",
    "# 複素数の虚部は「j」または「J」\n",
    "\n",
    "# print()関数では全体を囲む引用符を除去し、エスケープ文字や特殊文字をプリントする。\n",
    "print('\"Isn\\'t,\" she said.')\n",
    "\n",
    "# 文字列リテラルを複数行にわたり書く場合はトリプルクォートを使う。 '\\'で最初に改行する？\n",
    "print(\"\"\"\n",
    "Usage:things[OPTIONS]\n",
    "    -h\n",
    "    -H hostname\n",
    "\"\"\")\n",
    "\n",
    "# letters [2:5] = [2:5]を削除 [:] = []で全部削除\n",
    "# len()はリストに使うとリストの要素数を返す"
   ]
  },
  {
   "cell_type": "code",
   "execution_count": 6,
   "metadata": {},
   "outputs": [
    {
     "name": "stdout",
     "output_type": "stream",
     "text": [
      "[0, 1, 2, 3, 4]\n",
      "range(0, 5)\n",
      "Do nothing, but document it.\n",
      "    \n",
      "    No really, it doesn't do anything.\n",
      "    \n"
     ]
    }
   ],
   "source": [
    "# 4章　制御構造ツール(9,22.5%)\n",
    "\n",
    "# range()関数をリストとして出力する場足\n",
    "print(list(range(5)))\n",
    "\n",
    "# rangeを単純にプリントするとおかしなことが起こる→range()はリストではないから\n",
    "print(range(5))\n",
    "\n",
    "# breakとelseはセット(break文で終了した場合は実行されない)　※問題文で多重ループだったらbreak?\n",
    "# breakは内側のループから抜けるのみで外側のループは実行される\n",
    "# continueは残りのループを飛ばす\n",
    "\n",
    "# デフォルト値の評価は、関数を定義した時点で、定義を書いたスコープで行われる。\n",
    "\n",
    "# 関数をコールする場合は必ず位置引数が先でキーワード引数が後。\n",
    "\n",
    "# タプルはアンパッキングしてアクセスすることができる。アンパックには*演算子を使う。\n",
    "args = [3,6]\n",
    "list(range(*args))\n",
    "\n",
    "# lambdaを使うと小さな無名関数を書ける\n",
    "\n",
    "# docstring(ドキュメンテーション文字列) = 関数の説明\n",
    "# 1行目は短く簡潔な要約\n",
    "def my_function():\n",
    "    \"\"\"Do nothing, but document it.\n",
    "    \n",
    "    No really, it doesn't do anything.\n",
    "    \"\"\"\n",
    "    pass\n",
    "\n",
    "print(my_function.__doc__)\n",
    "\n",
    "# 関数注釈\n",
    "# 返り値注釈はdef文の最後のコロンの手前、仮引数リストとの間にリテラル「->」と式を挟むことで定義する\n",
    "\n",
    "# クラスにはCamelCase(単語の頭文字を大文字にして接続する)、関数やメソッドはlower_case_with_underscores(小文字の単語同士をアンダースコアで繋ぐ)"
   ]
  },
  {
   "cell_type": "code",
   "execution_count": 8,
   "metadata": {},
   "outputs": [
    {
     "name": "stdout",
     "output_type": "stream",
     "text": [
      "[5, 3, 1, 3, 4, 5, 2]\n",
      "{1: 'Noro', 2: 'Nakao', 4: 'Kimura'}\n",
      "xxxxCODExxxxDIVExxxxDIVE\n"
     ]
    }
   ],
   "source": [
    "# 5章　データ構造(7,17.5%)\n",
    "\n",
    "# remove(x)は値がxである最初のアイテムを削除する。ない場合はエラー。\n",
    "list = [5, 3, 1, 2, 3, 4, 5, 2]\n",
    "list.remove(2)\n",
    "print(list)\n",
    "\n",
    "# list.pop() 指定された位置のアイテムを削除。引数がない場合は最後のアイテムを返す。\n",
    "\n",
    "# list.index(x)は値がxである最初のアイテムのインデックスを返す。ない場合はエラー。\n",
    "\n",
    "# list.count(x)はリストの中のxの個数を返す\n",
    "\n",
    "# キューの実装\n",
    "# from collections import deque\n",
    "# 'popleft()'で先入れ先出し\n",
    "\n",
    "# delは辞書の場合はキー、それ以外はインデックス\n",
    "\n",
    "member = {1: 'Noro', 2: 'Nakao', 3: 'Miyaoka'}\n",
    "member[4] = 'Kimura'\n",
    "del member[3]\n",
    "print(member)\n",
    "\n",
    "# リストとタプルは順序を持つ要素の集まりであるという共通点がある。\n",
    "\n",
    "# 空の集合(重複しない要素を順不同で集めたもの)の生成はset()を使う\n",
    "# a^b aまたはbにある共通しない文字\n",
    "\n",
    "# ディクショナリ(dict)はmutable\n",
    "# 'in'で確認できるのは値ではなくキー\n",
    "# items()メソッドでキーとそれに対応した値を得られる。\n",
    "# enumerate()関数を使うと位置インデックスとそれに対応した値を得られる ※キーではない\n",
    "\n",
    "# 演算子の優先順位\n",
    "# 数値演算子 > 比較演算子(in, not in) > ブール演算子(and, or)=短絡演算子\n",
    "\n",
    "# 演算子(is,is not)は2つのオブジェクトを比較して完全に同一かどうか調べる\n",
    "\n",
    "'PHP' < 'Perl' < 'Python' # 長い文字列の方が大きくなる。\n",
    "\n",
    "# replace\n",
    "d = 'xxxxDIVExxxxDIVExxxxDIVE'\n",
    "\n",
    "print(d.replace('DIVE', 'CODE', 1))\n",
    "# replace(置換前文字列, 置換後文字列, 最大置換回数)"
   ]
  },
  {
   "cell_type": "code",
   "execution_count": 6,
   "metadata": {},
   "outputs": [],
   "source": [
    "# 6章　モジュール(2,5.0%)\n",
    "\n",
    "# あるモジュールがインポートされるときにインタープリタが検索する順序は、まずビルトインモジュール、\n",
    "# 次にsys.path変数で得られるディレクトリ、そしてシンボリックリンクを置いてあるディレクトリはモジュール検索パスに入らない。\n",
    "# 実行中のスクリプトのあるディレクトリは、検索パスの最初、標準ライブラリのパスよりも前方に置かれる。\n",
    "\n",
    "# Pythonはコンパイル済みのモジュールを__pycache__ディレクトリにmodule.バージョン名.pycの名前でキャッシュされる\n",
    "\n",
    "# モジュールが定義している名前を確認 'dir'\n",
    "# import(sys)\n",
    "# dir(sys)\n",
    "\n",
    "# あるディレクトリを、パッケージを含むものとして扱わせるために必要とされるファイルは'__init__.py'"
   ]
  },
  {
   "cell_type": "code",
   "execution_count": 2,
   "metadata": {},
   "outputs": [
    {
     "name": "stdout",
     "output_type": "stream",
     "text": [
      "こんにちは!山田さん\n"
     ]
    },
    {
     "data": {
      "text/plain": [
       "'[1, \"simple\", \"list\"]'"
      ]
     },
     "execution_count": 2,
     "metadata": {},
     "output_type": "execute_result"
    }
   ],
   "source": [
    "# 7章　入出力(1,2.5%)\n",
    "\n",
    "# str()関数は人間が読みやすい/repr()はインタープリンタが読める表現\n",
    "\n",
    "# str.rjust()は左側にスペースを追加=右寄せ\n",
    "# str.zfill()は符号も含めてゼロパディング\n",
    "\n",
    "# 中カッコとその中の文字はstr.format()メソッドに渡されたオブジェクトに変換される\n",
    "print('こんにちは!{}さん'.format('山田'))\n",
    "\n",
    "# open()はopen(<ファイル名>, <モード>)\n",
    "# 'r'は読み込み専用/'w'は書き出し専用/'a'は書き込みデータをファイル末尾へ追加/'r+'は読み書き両方/省略すれば'r'/'b'はバイナリーモード\n",
    "\n",
    "# f.read(サイズ)\n",
    "# ファイルの末尾に達すると空の文字列('')を返す\n",
    "# f.readline()は1行ずつ\n",
    "# list(f) or f.readlines()でファイルの全ての行を読み込み\n",
    "\n",
    "# f.write(文字列)は「文字列の内容」をファイルに書き込み、書き込まれたキャラクタの数を返す\n",
    "\n",
    "# 標準モジュールjsonは、Pythonのデータ階層構造を取って文字列表現にコンバートすることができる。このプロセスを「シリアライズ」\n",
    "# 文字列表現からデータを再構築することを「デシリアライズ」\n",
    "\n",
    "import json\n",
    "x = [1, 'simple', 'list']\n",
    "json.dumps(x)"
   ]
  },
  {
   "cell_type": "code",
   "execution_count": 8,
   "metadata": {},
   "outputs": [],
   "source": [
    "# 8章　エラーと例外(4,10.0%)\n",
    "\n",
    "# finally節は例外が発生しようがしまいが、try文から抜ける前には必ず実行される"
   ]
  },
  {
   "cell_type": "code",
   "execution_count": 9,
   "metadata": {},
   "outputs": [],
   "source": [
    "# 9章　クラス(2,5.0%)\n",
    "\n",
    "# スコープとは、ある名前空間から直接アクセスできる、プログラムテキスト上の範囲\n",
    "# __init__メソッドにも引数を与えることができる"
   ]
  },
  {
   "cell_type": "code",
   "execution_count": 34,
   "metadata": {},
   "outputs": [
    {
     "data": {
      "text/plain": [
       "0"
      ]
     },
     "execution_count": 34,
     "metadata": {},
     "output_type": "execute_result"
    }
   ],
   "source": [
    "# 10章　標準ライブラリめぐり(4,10.0%)\n",
    "\n",
    "# globモジュールはディレクトリをワイルドカード検索してファイル名のリストを返す関数を提供する\n",
    "# import glob\n",
    "# glob.glob('*.py')\n",
    "\n",
    "# randomモジュール\n",
    "import random\n",
    "random.choice(['apple','pear','banana'])\n",
    "random.sample(range(100), 10) #重複なしの抽出\n",
    "random.random() #ランダムな不動小数点\n",
    "random.randrange(6) #range(6)からランダムに選んだ整数"
   ]
  },
  {
   "cell_type": "code",
   "execution_count": 55,
   "metadata": {},
   "outputs": [
    {
     "data": {
      "text/plain": [
       "\"{'c', 'd', 'e', 'i', 'n', 'o', ...}\""
      ]
     },
     "execution_count": 55,
     "metadata": {},
     "output_type": "execute_result"
    }
   ],
   "source": [
    "# 11章　標準ライブラリめぐり─PartII(1,2.5%)\n",
    "\n",
    "# textwrapモジュールはテキストの各段落を指定の幅に収まるように整形する\n",
    "# print(textwrap.fill(doc,widht=40))\n",
    "\n",
    "# 平方根を求めるモジュール\n",
    "import math\n",
    "math.sqrt(2)\n",
    "\n",
    "# cos=コサイン\n",
    "import math\n",
    "math.cos(math.pi / 5)\n",
    "\n",
    "# repr()は引数付きのコンストラクタ（または初期化子）を文字列で返してくれる関数\n",
    "# reprlibは出力の長さを制限する\n",
    "\n",
    "import reprlib\n",
    "reprlib.repr(set('diveintocode'))\n",
    "\n",
    "# ディレクトリをワイルドカード検索してファイル名を返すモジュール 'glob'\n",
    "# import glob\n",
    "# glob.glob('*.py')\n",
    "\n",
    "# コマンドライン引数を取得するためのモジュール 'sys'\n",
    "# import sys\n",
    "# print(sys.argv)\n",
    "\n",
    "# バイナリデータレコードの処理を行うモジュール 'struct'"
   ]
  },
  {
   "cell_type": "code",
   "execution_count": 12,
   "metadata": {},
   "outputs": [],
   "source": [
    "# 12章　仮想環境とパッケージ(1,2.5%)\n",
    "\n",
    "# 仮想環境の終了 'deactivate'\n",
    "# pip install パッケージ名==version\n",
    "# pip install --upgrade パッケージ名\n",
    "# pip show パッケージ名でパッケージ情報\n",
    "# pip freezeはpip install向けにリストを出力, pip freeze > requirements.txt, pip install -r requirements.txt"
   ]
  },
  {
   "cell_type": "code",
   "execution_count": 16,
   "metadata": {},
   "outputs": [],
   "source": [
    "# 14章　対話環境での入力行編集とヒストリ置換(1,2.5%)"
   ]
  },
  {
   "cell_type": "code",
   "execution_count": 18,
   "metadata": {},
   "outputs": [
    {
     "name": "stdout",
     "output_type": "stream",
     "text": [
      "(123, 345, 'test')\n"
     ]
    }
   ],
   "source": [
    "t = 123,345,'test'\n",
    "print(t)\n",
    "# タプルで出力される"
   ]
  },
  {
   "cell_type": "code",
   "execution_count": 19,
   "metadata": {},
   "outputs": [
    {
     "name": "stdout",
     "output_type": "stream",
     "text": [
      "出力結果:\n",
      "予期せぬ問題発生: Exception発生\n"
     ]
    }
   ],
   "source": [
    "print(\"出力結果:\") #1\n",
    "try:\n",
    "  raise Exception(\"開始前\",\"Exception発生\")\n",
    "  print(\"開始\")\n",
    "except IOError as msg:\n",
    "  print(\"IOError発生:\",msg.args[0])\n",
    "except Exception as msg: #2\n",
    "  print(\"予期せぬ問題発生:\",msg.args[1])\n",
    "else:\n",
    "  print(\"Else表示\")"
   ]
  },
  {
   "cell_type": "code",
   "execution_count": 20,
   "metadata": {},
   "outputs": [
    {
     "name": "stdout",
     "output_type": "stream",
     "text": [
      "['a', 'b']\n"
     ]
    }
   ],
   "source": [
    "x = [\"a\",\"b\",\"c\",\"d\",\"e\"]\n",
    "print(x[:-3]) # -3まで"
   ]
  },
  {
   "cell_type": "code",
   "execution_count": 23,
   "metadata": {},
   "outputs": [
    {
     "name": "stdout",
     "output_type": "stream",
     "text": [
      "出力結果:\n",
      "hoge1\n",
      "hoge2\n",
      "hoge3\n"
     ]
    }
   ],
   "source": [
    "titles={'title1':'hoge1','title2':'hoge2','title3':'hoge3'}\n",
    " \n",
    "print(\"出力結果:\")\n",
    "for k,v in titles.items():\n",
    "  print(v)"
   ]
  },
  {
   "cell_type": "code",
   "execution_count": 41,
   "metadata": {},
   "outputs": [
    {
     "data": {
      "text/plain": [
       "2"
      ]
     },
     "execution_count": 41,
     "metadata": {},
     "output_type": "execute_result"
    }
   ],
   "source": [
    "list = [6,[5,[1,2]],4,[3,0]]\n",
    "list[1][1][1]"
   ]
  },
  {
   "cell_type": "code",
   "execution_count": 48,
   "metadata": {},
   "outputs": [
    {
     "name": "stdout",
     "output_type": "stream",
     "text": [
      "15\n"
     ]
    }
   ],
   "source": [
    "d = 'dive\\ninto\\ncode\\t' # \\n,\\tも1文字として扱われる \n",
    "\n",
    "print(len(d))"
   ]
  },
  {
   "cell_type": "code",
   "execution_count": 53,
   "metadata": {},
   "outputs": [
    {
     "data": {
      "text/plain": [
       "3.0"
      ]
     },
     "execution_count": 53,
     "metadata": {},
     "output_type": "execute_result"
    }
   ],
   "source": [
    "n = 3.14\n",
    "round(n, 0)"
   ]
  },
  {
   "cell_type": "code",
   "execution_count": 4,
   "metadata": {},
   "outputs": [
    {
     "data": {
      "text/plain": [
       "2"
      ]
     },
     "execution_count": 4,
     "metadata": {},
     "output_type": "execute_result"
    }
   ],
   "source": [
    "2 ** 1 ** 3\n",
    "# べき剰は右から"
   ]
  },
  {
   "cell_type": "code",
   "execution_count": 10,
   "metadata": {},
   "outputs": [
    {
     "name": "stdout",
     "output_type": "stream",
     "text": [
      "[(1, 4, 7), (2, 5, 8), (3, 6, 9)]\n"
     ]
    }
   ],
   "source": [
    "matrix = [[1, 2, 3], [4, 5, 6], [7, 8, 9]]\n",
    "power = list(zip(*matrix)) # *でアンパック\n",
    "print(power)"
   ]
  },
  {
   "cell_type": "code",
   "execution_count": null,
   "metadata": {},
   "outputs": [],
   "source": []
  }
 ],
 "metadata": {
  "kernelspec": {
   "display_name": "Python 3",
   "language": "python",
   "name": "python3"
  },
  "language_info": {
   "codemirror_mode": {
    "name": "ipython",
    "version": 3
   },
   "file_extension": ".py",
   "mimetype": "text/x-python",
   "name": "python",
   "nbconvert_exporter": "python",
   "pygments_lexer": "ipython3",
   "version": "3.7.6"
  }
 },
 "nbformat": 4,
 "nbformat_minor": 4
}
