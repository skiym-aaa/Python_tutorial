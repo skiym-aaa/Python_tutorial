{
 "cells": [
  {
   "cell_type": "code",
   "execution_count": 1,
   "metadata": {},
   "outputs": [],
   "source": [
    "# 1\n",
    "\n",
    "# Pythonの特徴\n",
    "# ・高水準のデータ型が、複雑な操作を単一文で表記することを可能にしている。\n",
    "# ・文のグルーピングは、カッコで囲うことではなくインデントで行われる。\n",
    "# ・変数や引数の宣言が不要"
   ]
  },
  {
   "cell_type": "code",
   "execution_count": 2,
   "metadata": {},
   "outputs": [],
   "source": [
    "# 2\n",
    "\n",
    "# プライマリプロンプト >>>\n",
    "# セカンダリプロンプト ..."
   ]
  },
  {
   "cell_type": "code",
   "execution_count": 3,
   "metadata": {},
   "outputs": [],
   "source": [
    "# 3\n",
    "\n",
    "# デフォルトではUTF-8でエンコード\n",
    "# -*- coding: エンコーディング名 -*- でエンコーディングの定義が可能"
   ]
  },
  {
   "cell_type": "code",
   "execution_count": 4,
   "metadata": {},
   "outputs": [],
   "source": [
    "# 5\n",
    "\n",
    "#　バックスラッシュでクォート文字のエスケープができる\n",
    "# print()しないで\\nが出力に含まれる"
   ]
  },
  {
   "cell_type": "code",
   "execution_count": 5,
   "metadata": {},
   "outputs": [
    {
     "name": "stdout",
     "output_type": "stream",
     "text": [
      "Brave\n"
     ]
    }
   ],
   "source": [
    "# 6\n",
    "\n",
    "Zen = 'NowIsBetterThanNever'\n",
    "print('{}{}{}{}'.format(Zen[5], Zen[10], Zen[-7], Zen[-3:-1]))"
   ]
  },
  {
   "cell_type": "code",
   "execution_count": 7,
   "metadata": {},
   "outputs": [
    {
     "name": "stdout",
     "output_type": "stream",
     "text": [
      "Python\n"
     ]
    },
    {
     "ename": "TypeError",
     "evalue": "'str' object does not support item assignment",
     "output_type": "error",
     "traceback": [
      "\u001b[0;31m---------------------------------------------------------------------------\u001b[0m",
      "\u001b[0;31mTypeError\u001b[0m                                 Traceback (most recent call last)",
      "\u001b[0;32m<ipython-input-7-817bf84bce7d>\u001b[0m in \u001b[0;36m<module>\u001b[0;34m\u001b[0m\n\u001b[1;32m      6\u001b[0m \u001b[0mprint\u001b[0m\u001b[0;34m(\u001b[0m\u001b[0mword\u001b[0m\u001b[0;34m)\u001b[0m\u001b[0;34m\u001b[0m\u001b[0;34m\u001b[0m\u001b[0m\n\u001b[1;32m      7\u001b[0m \u001b[0;34m\u001b[0m\u001b[0m\n\u001b[0;32m----> 8\u001b[0;31m \u001b[0mword\u001b[0m\u001b[0;34m[\u001b[0m\u001b[0;36m0\u001b[0m\u001b[0;34m]\u001b[0m \u001b[0;34m=\u001b[0m \u001b[0;34m'p'\u001b[0m\u001b[0;34m\u001b[0m\u001b[0;34m\u001b[0m\u001b[0m\n\u001b[0m\u001b[1;32m      9\u001b[0m \u001b[0mprint\u001b[0m\u001b[0;34m(\u001b[0m\u001b[0mword\u001b[0m\u001b[0;34m)\u001b[0m\u001b[0;34m\u001b[0m\u001b[0;34m\u001b[0m\u001b[0m\n",
      "\u001b[0;31mTypeError\u001b[0m: 'str' object does not support item assignment"
     ]
    }
   ],
   "source": [
    "# 7\n",
    "\n",
    "#Pythonの文字列は改変できない-変更不能体(immutable)\n",
    "\n",
    "word = 'Python'\n",
    "print(word)\n",
    "\n",
    "word[0] = 'p'\n",
    "print(word)"
   ]
  },
  {
   "cell_type": "code",
   "execution_count": 8,
   "metadata": {},
   "outputs": [
    {
     "name": "stdout",
     "output_type": "stream",
     "text": [
      "1,1,2,3,5,8,"
     ]
    }
   ],
   "source": [
    "# 8\n",
    "\n",
    "a, b = 0, 1\n",
    "while b < 10:\n",
    "    print(b, end=',')\n",
    "    a, b = b, a+b"
   ]
  },
  {
   "cell_type": "code",
   "execution_count": 9,
   "metadata": {},
   "outputs": [
    {
     "name": "stdout",
     "output_type": "stream",
     "text": [
      "green 5, blue 4, yellow 6, "
     ]
    }
   ],
   "source": [
    "# 9\n",
    "\n",
    "colors = ['red', 'green', 'blue']\n",
    "colors.append('yellow')\n",
    "colors.insert(0,'purple')\n",
    "for color in colors[2:]:\n",
    "    print(color, len(color), end = ', ')"
   ]
  },
  {
   "cell_type": "code",
   "execution_count": 12,
   "metadata": {},
   "outputs": [
    {
     "name": "stdout",
     "output_type": "stream",
     "text": [
      "2 is a prime number\n",
      "3 is a prime number\n",
      "4 equals 2 * 2\n",
      "5 is a prime number\n",
      "6 equals 2 * 3\n",
      "7 is a prime number\n",
      "8 equals 2 * 4\n",
      "9 equals 3 * 3\n"
     ]
    }
   ],
   "source": [
    "# 10\n",
    "\n",
    "for n in range(2, 10):\n",
    "    for x in range(2 ,n):\n",
    "        if n % x == 0:\n",
    "            print(n, 'equals', x, '*', n//x)\n",
    "            break\n",
    "    else:\n",
    "        print(n,'is a prime number')"
   ]
  },
  {
   "cell_type": "code",
   "execution_count": 13,
   "metadata": {},
   "outputs": [
    {
     "name": "stdout",
     "output_type": "stream",
     "text": [
      "-10, -15, -20, -25, "
     ]
    }
   ],
   "source": [
    "# 11\n",
    "\n",
    "for i in range(-10, -30, -5): #-30は含まない\n",
    "    print(i, end=\", \")"
   ]
  },
  {
   "cell_type": "code",
   "execution_count": 17,
   "metadata": {},
   "outputs": [
    {
     "name": "stdout",
     "output_type": "stream",
     "text": [
      "0 Now\n",
      "1 is\n",
      "2 better\n",
      "3 than\n",
      "4 never\n"
     ]
    }
   ],
   "source": [
    "# 12\n",
    "\n",
    "Zen = ['Now','is','better','than','never']\n",
    "for i ,v in enumerate(Zen):\n",
    "    print(i, v)\n",
    "# for i in range(len(Zen)):\n",
    "#   print(i, Zen[i])"
   ]
  },
  {
   "cell_type": "code",
   "execution_count": 19,
   "metadata": {},
   "outputs": [
    {
     "name": "stdout",
     "output_type": "stream",
     "text": [
      "6\n"
     ]
    }
   ],
   "source": [
    "# 13\n",
    "\n",
    "i = 5\n",
    "i = 6\n",
    "\n",
    "def f(arg = i):　#デフォルト値の評価は関数を定義した時点で定義を書いたスコープで行われる。\n",
    "    i = 7\n",
    "    print(arg)\n",
    "\n",
    "i = 8\n",
    "i = 9\n",
    "\n",
    "f()"
   ]
  },
  {
   "cell_type": "code",
   "execution_count": 22,
   "metadata": {},
   "outputs": [
    {
     "name": "stdout",
     "output_type": "stream",
     "text": [
      "([1], [1])\n",
      "([1, 4], [1, 27])\n",
      "([1, 4, 9], [1, 27, 64])\n",
      "([1, 4, 9, 16], [1, 27, 64, 125])\n"
     ]
    }
   ],
   "source": [
    "# 14\n",
    "\n",
    "def culc(a, b=1, squares=[], cubes=[]):\n",
    "    squares.append(a ** 2)\n",
    "    cubes.append(b ** 3)\n",
    "    return squares, cubes\n",
    "\n",
    "print(culc(1))\n",
    "print(culc(2, 3))\n",
    "print(culc(3, 4))\n",
    "print(culc(4, 5))"
   ]
  },
  {
   "cell_type": "code",
   "execution_count": 23,
   "metadata": {},
   "outputs": [
    {
     "name": "stdout",
     "output_type": "stream",
     "text": [
      "I live in Japan .\n",
      "My company is located in chiyoda , Tokyo .\n"
     ]
    }
   ],
   "source": [
    "# 15\n",
    "\n",
    "def location(city, state, country='Japan'):\n",
    "    print(\"I live in\",country,\".\")\n",
    "    print(\"My company is located in\",city,\",\",state,\".\")\n",
    "    \n",
    "location(state='Tokyo', city='chiyoda')"
   ]
  },
  {
   "cell_type": "code",
   "execution_count": 24,
   "metadata": {},
   "outputs": [
    {
     "name": "stdout",
     "output_type": "stream",
     "text": [
      "flowershop: Iris\n",
      "Open: 9:30 am\n",
      "Close: 10:30 pm\n",
      "Monday and holidays are closed.\n",
      "**Recommended**\n",
      "bouquet : Sunflower\n",
      "dried : Rose\n",
      "plants : Pachira\n"
     ]
    }
   ],
   "source": [
    "# 16\n",
    "\n",
    "def shop(name, *arguments, **keywords):\n",
    "    print(\"flowershop:\", name)\n",
    "    for arg in arguments:\n",
    "        print(arg)\n",
    "    print(\"**Recommended**\")\n",
    "    keys = sorted(keywords.keys())\n",
    "    for kw in keys:\n",
    "        print(kw, \":\", keywords[kw])\n",
    "\n",
    "shop(\"Iris\",\"Open: 9:30 am\",\"Close: 10:30 pm\",\"Monday and holidays are closed.\",bouquet=\"Sunflower\",plants=\"Pachira\",dried=\"Rose\")\n",
    "\n",
    "# タプル　()\n",
    "# タプルのメリット\n",
    "# 要素の順番を変えられたくない時\n",
    "# データ型に変更が出ない場合（固定の場合）\n",
    "\n",
    "# リスト []\n",
    "\n",
    "# *args: 複数の引数をタプルとして受け取る\n",
    "# **keywords: 複数のキーワード引数を辞書"
   ]
  },
  {
   "cell_type": "code",
   "execution_count": 25,
   "metadata": {},
   "outputs": [],
   "source": [
    "# 17\n",
    "\n",
    "# 国際的な環境で使用する予定のコードでは、PythonのデフォルトであるUTF-8か、さらにプレーンなASCIIが常に最良である。"
   ]
  },
  {
   "cell_type": "code",
   "execution_count": 6,
   "metadata": {},
   "outputs": [
    {
     "name": "stdout",
     "output_type": "stream",
     "text": [
      "[0, 1, 8, 27, 64]\n"
     ]
    }
   ],
   "source": [
    "# 18\n",
    "\n",
    "# cubes = []\n",
    "# for x in range(5):\n",
    "#     cubes.append(x ** 3)\n",
    "\n",
    "# print(cubes)\n",
    "\n",
    "cubes = [x ** 3 for x in range(5)]\n",
    "print(cubes)"
   ]
  },
  {
   "cell_type": "code",
   "execution_count": 7,
   "metadata": {},
   "outputs": [
    {
     "name": "stdout",
     "output_type": "stream",
     "text": [
      "[5, 25, 125]\n"
     ]
    }
   ],
   "source": [
    "# 19\n",
    "\n",
    "matrix = [[2, 3, 5], [4, 9, 25], [8, 27, 125]]\n",
    "power = [row[2] for row in matrix]\n",
    "print(power)"
   ]
  },
  {
   "cell_type": "code",
   "execution_count": 8,
   "metadata": {},
   "outputs": [
    {
     "name": "stdout",
     "output_type": "stream",
     "text": [
      "deque(['cow', 'dog', 'elephant', 'fox'])\n"
     ]
    }
   ],
   "source": [
    "# 20\n",
    "\n",
    "from collections import deque\n",
    "queue = deque([\"bear\", \"cow\", \"dog\", \"elephant\",\"fox\"])\n",
    "queue.append(\"goat\")\n",
    "queue.popleft()\n",
    "queue.pop()\n",
    "print(queue)"
   ]
  },
  {
   "cell_type": "code",
   "execution_count": 13,
   "metadata": {},
   "outputs": [
    {
     "name": "stdout",
     "output_type": "stream",
     "text": [
      "[50, 30, 20, 15, 5, 1]\n"
     ]
    }
   ],
   "source": [
    "# 21\n",
    "\n",
    "list = [-10, 1, 15, 20, 30]\n",
    "list.insert(2,5) #insert(位置,要素)\n",
    "list.append(50)\n",
    "list.sort(reverse = True)\n",
    "list.pop(-1)\n",
    "print(list)"
   ]
  },
  {
   "cell_type": "code",
   "execution_count": 14,
   "metadata": {},
   "outputs": [
    {
     "name": "stdout",
     "output_type": "stream",
     "text": [
      "xitBtTn\n"
     ]
    }
   ],
   "source": [
    "# 22\n",
    "\n",
    "Zen = 'ExplicitIsBetterThanImplicit'\n",
    "print(Zen[1:20:3])"
   ]
  },
  {
   "cell_type": "code",
   "execution_count": 15,
   "metadata": {},
   "outputs": [],
   "source": [
    "# 23\n",
    "\n",
    "# set,list,dictは変更可能体\n",
    "# タプルは変更不能体"
   ]
  },
  {
   "cell_type": "code",
   "execution_count": 16,
   "metadata": {},
   "outputs": [
    {
     "data": {
      "text/plain": [
       "True"
      ]
     },
     "execution_count": 16,
     "metadata": {},
     "output_type": "execute_result"
    }
   ],
   "source": [
    "# 24\n",
    "\n",
    "'PHP' < 'Perl' < 'Python'"
   ]
  },
  {
   "cell_type": "code",
   "execution_count": 17,
   "metadata": {},
   "outputs": [],
   "source": [
    "# 25\n",
    "\n",
    "# モジュールの検索パス\n",
    "# ビルトインモジュール　→　sys.path ※シンボリックリンクが置いてあるディレクトリはモジュール検索パスに入らない。"
   ]
  },
  {
   "cell_type": "code",
   "execution_count": 19,
   "metadata": {},
   "outputs": [
    {
     "data": {
      "text/plain": [
       "['__breakpointhook__',\n",
       " '__displayhook__',\n",
       " '__doc__',\n",
       " '__excepthook__',\n",
       " '__interactivehook__',\n",
       " '__loader__',\n",
       " '__name__',\n",
       " '__package__',\n",
       " '__spec__',\n",
       " '__stderr__',\n",
       " '__stdin__',\n",
       " '__stdout__',\n",
       " '_clear_type_cache',\n",
       " '_current_frames',\n",
       " '_debugmallocstats',\n",
       " '_framework',\n",
       " '_getframe',\n",
       " '_git',\n",
       " '_home',\n",
       " '_xoptions',\n",
       " 'abiflags',\n",
       " 'api_version',\n",
       " 'argv',\n",
       " 'base_exec_prefix',\n",
       " 'base_prefix',\n",
       " 'breakpointhook',\n",
       " 'builtin_module_names',\n",
       " 'byteorder',\n",
       " 'call_tracing',\n",
       " 'callstats',\n",
       " 'copyright',\n",
       " 'displayhook',\n",
       " 'dont_write_bytecode',\n",
       " 'exc_info',\n",
       " 'excepthook',\n",
       " 'exec_prefix',\n",
       " 'executable',\n",
       " 'exit',\n",
       " 'flags',\n",
       " 'float_info',\n",
       " 'float_repr_style',\n",
       " 'get_asyncgen_hooks',\n",
       " 'get_coroutine_origin_tracking_depth',\n",
       " 'get_coroutine_wrapper',\n",
       " 'getallocatedblocks',\n",
       " 'getcheckinterval',\n",
       " 'getdefaultencoding',\n",
       " 'getdlopenflags',\n",
       " 'getfilesystemencodeerrors',\n",
       " 'getfilesystemencoding',\n",
       " 'getprofile',\n",
       " 'getrecursionlimit',\n",
       " 'getrefcount',\n",
       " 'getsizeof',\n",
       " 'getswitchinterval',\n",
       " 'gettrace',\n",
       " 'hash_info',\n",
       " 'hexversion',\n",
       " 'implementation',\n",
       " 'int_info',\n",
       " 'intern',\n",
       " 'is_finalizing',\n",
       " 'last_traceback',\n",
       " 'last_type',\n",
       " 'last_value',\n",
       " 'maxsize',\n",
       " 'maxunicode',\n",
       " 'meta_path',\n",
       " 'modules',\n",
       " 'path',\n",
       " 'path_hooks',\n",
       " 'path_importer_cache',\n",
       " 'platform',\n",
       " 'prefix',\n",
       " 'ps1',\n",
       " 'ps2',\n",
       " 'ps3',\n",
       " 'set_asyncgen_hooks',\n",
       " 'set_coroutine_origin_tracking_depth',\n",
       " 'set_coroutine_wrapper',\n",
       " 'setcheckinterval',\n",
       " 'setdlopenflags',\n",
       " 'setprofile',\n",
       " 'setrecursionlimit',\n",
       " 'setswitchinterval',\n",
       " 'settrace',\n",
       " 'stderr',\n",
       " 'stdin',\n",
       " 'stdout',\n",
       " 'thread_info',\n",
       " 'version',\n",
       " 'version_info',\n",
       " 'warnoptions']"
      ]
     },
     "execution_count": 19,
     "metadata": {},
     "output_type": "execute_result"
    }
   ],
   "source": [
    "# 26\n",
    "\n",
    "import sys\n",
    "dir(sys)"
   ]
  },
  {
   "cell_type": "code",
   "execution_count": 20,
   "metadata": {},
   "outputs": [
    {
     "name": "stdout",
     "output_type": "stream",
     "text": [
      "2.718, 3.14159\n"
     ]
    }
   ],
   "source": [
    "# 27\n",
    "\n",
    "import math\n",
    "print('{1:.3f}, {0:.5f}'.format(math.pi, math.e)) #math.e = ネイピア数(無理数)"
   ]
  },
  {
   "cell_type": "code",
   "execution_count": 21,
   "metadata": {},
   "outputs": [
    {
     "name": "stdin",
     "output_type": "stream",
     "text": [
      "整数a: 5\n",
      "整数b: 0\n"
     ]
    },
    {
     "name": "stdout",
     "output_type": "stream",
     "text": [
      "25\n",
      "D\n",
      "G\n"
     ]
    }
   ],
   "source": [
    "# 28\n",
    "\n",
    "try:\n",
    "    int_a = int(input('整数a:'))\n",
    "    int_b = int(input('整数b:'))\n",
    "    print(int_a ** 2)\n",
    "    print((int_a ** 2) / int_b)\n",
    "except(ValueError) as v:\n",
    "    print(type(v))\n",
    "    print('C')\n",
    "except(ZeroDivisionError) :\n",
    "    print('D')\n",
    "except:\n",
    "    print('E')\n",
    "else:\n",
    "    print('F')\n",
    "finally:\n",
    "    print('G')"
   ]
  },
  {
   "cell_type": "code",
   "execution_count": 22,
   "metadata": {},
   "outputs": [],
   "source": [
    "# 29\n",
    "\n",
    "# パーサは違反のある行を表示し、最初にエラーが検知される点を小さな矢印で指す。エラーは矢印より前のトークンが原因である。"
   ]
  },
  {
   "cell_type": "code",
   "execution_count": 24,
   "metadata": {},
   "outputs": [],
   "source": [
    "# 30\n",
    "\n",
    "# with open(\"file.txt\") as f:\n",
    "#     for line in f:\n",
    "#         print(line, end=\"\")"
   ]
  },
  {
   "cell_type": "code",
   "execution_count": 25,
   "metadata": {},
   "outputs": [
    {
     "name": "stdout",
     "output_type": "stream",
     "text": [
      "Saya is a\n",
      "intelligent\n",
      "speedster.\n"
     ]
    }
   ],
   "source": [
    "# 31\n",
    "\n",
    "class OurException(Exception):\n",
    "    pass\n",
    "def raise_her_exception(a):\n",
    "    print(a, 'is a')\n",
    "    raise OurException\n",
    "    print('easygoing person.')\n",
    "def func(key: int):\n",
    "    try:\n",
    "        if key == 0:\n",
    "            raise_her_exception('Saya')\n",
    "    except OurException as e:\n",
    "        print('intelligent')\n",
    "        raise Exception\n",
    "\n",
    "key = 0\n",
    "try:\n",
    "    func(key)\n",
    "except Exception as f:\n",
    "    print('speedster.')"
   ]
  },
  {
   "cell_type": "code",
   "execution_count": 26,
   "metadata": {},
   "outputs": [],
   "source": [
    "# 32\n",
    "\n",
    "# __init__()には引数が与えられる。"
   ]
  },
  {
   "cell_type": "code",
   "execution_count": 28,
   "metadata": {},
   "outputs": [
    {
     "name": "stdout",
     "output_type": "stream",
     "text": [
      "I'm Saya.\n",
      "I'm Magatama.\n",
      "I'm David.\n"
     ]
    }
   ],
   "source": [
    "# 33\n",
    "\n",
    "class kusanagi():\n",
    "    def s(self):\n",
    "        print(\"I'm Saya.\")\n",
    "        self.m()\n",
    "    def m(self):\n",
    "        print(\"I'm Magatama.\")\n",
    "\n",
    "class onimaru(kusanagi):\n",
    "    def d(self):\n",
    "        print(\"I'm David.\")\n",
    "\n",
    "k = kusanagi()\n",
    "o = onimaru()\n",
    "k.s()\n",
    "o.d()"
   ]
  },
  {
   "cell_type": "code",
   "execution_count": 29,
   "metadata": {},
   "outputs": [
    {
     "name": "stdout",
     "output_type": "stream",
     "text": [
      "['-f', '/Users/yukisakiyama/Library/Jupyter/runtime/kernel-305deac4-a1ab-4968-8e8a-785335646704.json']\n"
     ]
    }
   ],
   "source": [
    "# 34\n",
    "\n",
    "import sys\n",
    "print(sys.argv[1:4])"
   ]
  },
  {
   "cell_type": "code",
   "execution_count": 30,
   "metadata": {},
   "outputs": [
    {
     "ename": "TypeError",
     "evalue": "'NoneType' object is not subscriptable",
     "output_type": "error",
     "traceback": [
      "\u001b[0;31m---------------------------------------------------------------------------\u001b[0m",
      "\u001b[0;31mTypeError\u001b[0m                                 Traceback (most recent call last)",
      "\u001b[0;32m<ipython-input-30-9ca709cb0820>\u001b[0m in \u001b[0;36m<module>\u001b[0;34m\u001b[0m\n\u001b[1;32m      4\u001b[0m \u001b[0mprog\u001b[0m \u001b[0;34m=\u001b[0m \u001b[0mre\u001b[0m\u001b[0;34m.\u001b[0m\u001b[0mcompile\u001b[0m\u001b[0;34m(\u001b[0m\u001b[0;34m'(K|S)us(a|u)n(a|o)(o|m)?g?i?(saya)?'\u001b[0m\u001b[0;34m,\u001b[0m \u001b[0mre\u001b[0m\u001b[0;34m.\u001b[0m\u001b[0mIGNORECASE\u001b[0m\u001b[0;34m)\u001b[0m\u001b[0;34m\u001b[0m\u001b[0;34m\u001b[0m\u001b[0m\n\u001b[1;32m      5\u001b[0m \u001b[0mret\u001b[0m \u001b[0;34m=\u001b[0m \u001b[0mprog\u001b[0m\u001b[0;34m.\u001b[0m\u001b[0msearch\u001b[0m\u001b[0;34m(\u001b[0m\u001b[0;34m'Kusaneiro'\u001b[0m\u001b[0;34m)\u001b[0m\u001b[0;34m\u001b[0m\u001b[0;34m\u001b[0m\u001b[0m\n\u001b[0;32m----> 6\u001b[0;31m \u001b[0mprint\u001b[0m\u001b[0;34m(\u001b[0m\u001b[0mret\u001b[0m\u001b[0;34m[\u001b[0m\u001b[0;36m0\u001b[0m\u001b[0;34m]\u001b[0m\u001b[0;34m)\u001b[0m\u001b[0;34m\u001b[0m\u001b[0;34m\u001b[0m\u001b[0m\n\u001b[0m",
      "\u001b[0;31mTypeError\u001b[0m: 'NoneType' object is not subscriptable"
     ]
    }
   ],
   "source": [
    "# 35\n",
    "\n",
    "import re\n",
    "prog = re.compile('(K|S)us(a|u)n(a|o)(o|m)?g?i?(saya)?', re.IGNORECASE)\n",
    "ret = prog.search('Kusaneiro')\n",
    "print(ret[0])"
   ]
  },
  {
   "cell_type": "code",
   "execution_count": 32,
   "metadata": {},
   "outputs": [
    {
     "name": "stdout",
     "output_type": "stream",
     "text": [
      "19.428571428571427 20 138.95238095238093\n"
     ]
    }
   ],
   "source": [
    "# 36\n",
    "\n",
    "import statistics\n",
    "data = [1,10,15,20,25,30,35]\n",
    "rslt1 = statistics.mean(data) #平均\n",
    "rslt2 = statistics.median(data) #中央値\n",
    "rslt3 = statistics.variance(data) #分散\n",
    "print(rslt1, rslt2, rslt3)"
   ]
  },
  {
   "cell_type": "code",
   "execution_count": 35,
   "metadata": {},
   "outputs": [
    {
     "name": "stdout",
     "output_type": "stream",
     "text": [
      "2020-08-12\n"
     ]
    }
   ],
   "source": [
    "# 37\n",
    "\n",
    "from datetime import date\n",
    "\n",
    "now = date.today()\n",
    "print(now)"
   ]
  },
  {
   "cell_type": "code",
   "execution_count": 36,
   "metadata": {},
   "outputs": [],
   "source": [
    "# 38\n",
    "\n",
    "# loggingモジュール\n",
    "# 優先順位\n",
    "# CRITICAL、ERROR、WARNING、INFO、DEBUG"
   ]
  },
  {
   "cell_type": "code",
   "execution_count": 37,
   "metadata": {},
   "outputs": [],
   "source": [
    "# 39\n",
    "\n",
    "#pip uninstall　は複数指定可"
   ]
  },
  {
   "cell_type": "code",
   "execution_count": null,
   "metadata": {},
   "outputs": [],
   "source": [
    "# 40\n",
    "\n",
    "# デフォルト設定ではユーザーディレクトリの「.python_history」ファイルにヒストリが保存される。ヒストリは対話型インタープリタセッションで利用できる。"
   ]
  }
 ],
 "metadata": {
  "kernelspec": {
   "display_name": "Python 3",
   "language": "python",
   "name": "python3"
  },
  "language_info": {
   "codemirror_mode": {
    "name": "ipython",
    "version": 3
   },
   "file_extension": ".py",
   "mimetype": "text/x-python",
   "name": "python",
   "nbconvert_exporter": "python",
   "pygments_lexer": "ipython3",
   "version": "3.7.6"
  }
 },
 "nbformat": 4,
 "nbformat_minor": 4
}
