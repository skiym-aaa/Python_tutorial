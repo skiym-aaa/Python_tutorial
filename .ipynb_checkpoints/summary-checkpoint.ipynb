{
 "cells": [
  {
   "cell_type": "code",
   "execution_count": 1,
   "metadata": {},
   "outputs": [],
   "source": [
    "# 1章　食欲をそそってみようか(1,2.5%)\n",
    "\n",
    "# Pythonの特徴\n",
    "# ・高水準のデータ型が、複雑な操作を単一文で表記することを可能にしている。\n",
    "# ・文のグルーピングは、カッコで囲うことではなくインデントで行われる。\n",
    "# ・変数や引数の宣言が不要。"
   ]
  },
  {
   "cell_type": "code",
   "execution_count": 13,
   "metadata": {},
   "outputs": [],
   "source": [
    "# 2章　Pythonインタープリタの使い方(1,2.5%)\n",
    "\n",
    "# インタープリタを起動するには 'python -c コマンド[引数]...'という方法もある。\n",
    "# 'python -m モジュール名[引数]...'\n",
    "# pythonインタープリタを終了するコマンド ファイル終端キャラクタ or 'quit()'\n",
    "# coding: エンコーディング名 でUTF-8ではなくエンコーディング名で指定したエンコーディングをしたものとして扱われる。"
   ]
  },
  {
   "cell_type": "code",
   "execution_count": 2,
   "metadata": {},
   "outputs": [
    {
     "name": "stdout",
     "output_type": "stream",
     "text": [
      "\n",
      "Usage:things[OPTIONS]\n",
      "    -h\n",
      "    -H hostname\n",
      "\n"
     ]
    }
   ],
   "source": [
    "# 3章　気楽な入門編(6,15.0%)\n",
    "\n",
    "# 除算は常にfloatを返す　演算対象の型が混合していた場合はfloat\n",
    "# //　は剰余の切り捨て　% は剰余のみ\n",
    "# 対話モードでは、最後に表示した式を変数「_(アンダースコア)」に代入してある。\n",
    "\n",
    "# 文字列リテラルを複数行にわたり書く場合はトリプルクォートを使う。\n",
    "print(\"\"\"\n",
    "Usage:things[OPTIONS]\n",
    "    -h\n",
    "    -H hostname\n",
    "\"\"\")\n",
    "\n",
    "# letters [2:5] = [2:5]を削除 [:] = []で全部削除\n",
    "# len()はリストに使うとリストの要素数を返す"
   ]
  },
  {
   "cell_type": "code",
   "execution_count": 39,
   "metadata": {},
   "outputs": [
    {
     "name": "stdout",
     "output_type": "stream",
     "text": [
      "[0, 1, 2, 3, 4]\n",
      "range(0, 5)\n"
     ]
    },
    {
     "data": {
      "text/plain": [
       "[3, 4, 5]"
      ]
     },
     "execution_count": 39,
     "metadata": {},
     "output_type": "execute_result"
    }
   ],
   "source": [
    "# 4章　制御構造ツール(9,22.5%)\n",
    "\n",
    "# range()関数をリストとして出力する場足\n",
    "print(list(range(5)))\n",
    "\n",
    "# rangeを単純にプリントするとおかしなことが起こる→range()はリストではないから\n",
    "print(range(5))\n",
    "\n",
    "# タプルはアンパッキングしてアクセスすることができる。アンパックには*演算子を使う。\n",
    "args = [3,6]\n",
    "list(range(*args))\n",
    "\n",
    "# デフォルト値の評価は、関数を定義した時点で、定義を書いたスコープで行われる。"
   ]
  },
  {
   "cell_type": "code",
   "execution_count": 1,
   "metadata": {},
   "outputs": [
    {
     "name": "stdout",
     "output_type": "stream",
     "text": [
      "[5, 3, 1, 3, 4, 5, 2]\n"
     ]
    },
    {
     "data": {
      "text/plain": [
       "True"
      ]
     },
     "execution_count": 1,
     "metadata": {},
     "output_type": "execute_result"
    }
   ],
   "source": [
    "# 5章　データ構造(7,17.5%)\n",
    "\n",
    "# remove(x)は値がxである最初のアイテムを削除する。ない場合はエラー。\n",
    "list = [5, 3, 1, 2, 3, 4, 5, 2]\n",
    "list.remove(2)\n",
    "print(list)\n",
    "\n",
    "# list.index(x)は値がxである最初のアイテムのインデックスを返す。ない場合はエラー。\n",
    "\n",
    "# list.count(x)はリストの中のxの個数を返す\n",
    "\n",
    "# list.pop() 引数がない場合は最後のアイテムを返す。\n",
    "\n",
    "# 演算子の優先順位\n",
    "# 数値演算子 > 比較演算子(in, not in) > ブール演算子(and,or)=短絡演算子\n",
    "\n",
    "# 演算子(is,is not)は2つのオブジェクトを比較して完全に同一かどうか調べる\n",
    "\n",
    "# ディクショナリ(dict)はmutable\n",
    "\n",
    "'PHP' < 'Perl' < 'Python' # 長い文字列の方が大きくなる。"
   ]
  },
  {
   "cell_type": "code",
   "execution_count": 6,
   "metadata": {},
   "outputs": [],
   "source": [
    "# 6章　モジュール(2,5.0%)\n",
    "\n",
    "# モジュールが定義している名前を確認\n",
    "# import(sys)\n",
    "# dir(sys)"
   ]
  },
  {
   "cell_type": "code",
   "execution_count": 7,
   "metadata": {},
   "outputs": [],
   "source": [
    "# 7章　入出力(1,2.5%)\n",
    "\n",
    "# 中カッコとその中の文字はstr.format()メソッドに渡されたオブジェクトに変換される\n",
    "print('こんにちは!{}さん'.format('山田'))"
   ]
  },
  {
   "cell_type": "code",
   "execution_count": 8,
   "metadata": {},
   "outputs": [],
   "source": [
    "# 8章　エラーと例外(4,10.0%)"
   ]
  },
  {
   "cell_type": "code",
   "execution_count": 9,
   "metadata": {},
   "outputs": [],
   "source": [
    "# 9章　クラス(2,5.0%)"
   ]
  },
  {
   "cell_type": "code",
   "execution_count": 34,
   "metadata": {},
   "outputs": [
    {
     "data": {
      "text/plain": [
       "0"
      ]
     },
     "execution_count": 34,
     "metadata": {},
     "output_type": "execute_result"
    }
   ],
   "source": [
    "# 10章　標準ライブラリめぐり(4,10.0%)\n",
    "\n",
    "# randomモジュール\n",
    "import random\n",
    "random.choice(['apple','pear','banana'])\n",
    "random.sample(range(100), 10) #重複なしの抽出\n",
    "random.random() #ランダムな不動小数点\n",
    "random.randrange(6) #range(6)からランダムに選んだ整数"
   ]
  },
  {
   "cell_type": "code",
   "execution_count": 55,
   "metadata": {},
   "outputs": [
    {
     "data": {
      "text/plain": [
       "\"{'c', 'd', 'e', 'i', 'n', 'o', ...}\""
      ]
     },
     "execution_count": 55,
     "metadata": {},
     "output_type": "execute_result"
    }
   ],
   "source": [
    "# 11章　標準ライブラリめぐり─PartII(1,2.5%)\n",
    "\n",
    "# 平方根を求めるモジュール\n",
    "import math\n",
    "math.sqrt(2)\n",
    "\n",
    "# cos=コサイン\n",
    "import math\n",
    "math.cos(math.pi / 5)\n",
    "\n",
    "# repr()は引数付きのコンストラクタ（または初期化子）を文字列で返してくれる関数\n",
    "# reprlibは出力の長さを制限する\n",
    "\n",
    "import reprlib\n",
    "reprlib.repr(set('diveintocode'))\n",
    "\n",
    "# ディレクトリをワイルドカード検索してファイル名を返すモジュール 'glob'\n",
    "# import glob\n",
    "# glob.glob('*.py')\n",
    "\n",
    "# コマンドライン引数を取得するためのモジュール 'sys'\n",
    "# import sys\n",
    "# print(sys.argv)"
   ]
  },
  {
   "cell_type": "code",
   "execution_count": 12,
   "metadata": {},
   "outputs": [],
   "source": [
    "# 12章　仮想環境とパッケージ(1,2.5%)\n",
    "\n",
    "# 仮想環境の終了 'deactivate'"
   ]
  },
  {
   "cell_type": "code",
   "execution_count": 16,
   "metadata": {},
   "outputs": [],
   "source": [
    "# 14章　対話環境での入力行編集とヒストリ置換(1,2.5%)"
   ]
  },
  {
   "cell_type": "code",
   "execution_count": 18,
   "metadata": {},
   "outputs": [
    {
     "name": "stdout",
     "output_type": "stream",
     "text": [
      "(123, 345, 'test')\n"
     ]
    }
   ],
   "source": [
    "t = 123,345,'test'\n",
    "print(t)"
   ]
  },
  {
   "cell_type": "code",
   "execution_count": 19,
   "metadata": {},
   "outputs": [
    {
     "name": "stdout",
     "output_type": "stream",
     "text": [
      "出力結果:\n",
      "予期せぬ問題発生: Exception発生\n"
     ]
    }
   ],
   "source": [
    "print(\"出力結果:\") #1\n",
    "try:\n",
    "  raise Exception(\"開始前\",\"Exception発生\")\n",
    "  print(\"開始\")\n",
    "except IOError as msg:\n",
    "  print(\"IOError発生:\",msg.args[0])\n",
    "except Exception as msg: #2\n",
    "  print(\"予期せぬ問題発生:\",msg.args[1])\n",
    "else:\n",
    "  print(\"Else表示\")"
   ]
  },
  {
   "cell_type": "code",
   "execution_count": 20,
   "metadata": {},
   "outputs": [
    {
     "name": "stdout",
     "output_type": "stream",
     "text": [
      "['a', 'b']\n"
     ]
    }
   ],
   "source": [
    "x = [\"a\",\"b\",\"c\",\"d\",\"e\"]\n",
    "print(x[:-3]) # -3まで"
   ]
  },
  {
   "cell_type": "code",
   "execution_count": 23,
   "metadata": {},
   "outputs": [
    {
     "name": "stdout",
     "output_type": "stream",
     "text": [
      "出力結果:\n",
      "hoge1\n",
      "hoge2\n",
      "hoge3\n"
     ]
    }
   ],
   "source": [
    "titles={'title1':'hoge1','title2':'hoge2','title3':'hoge3'}\n",
    " \n",
    "print(\"出力結果:\")\n",
    "for k,v in titles.items():\n",
    "  print(v)"
   ]
  },
  {
   "cell_type": "code",
   "execution_count": 41,
   "metadata": {},
   "outputs": [
    {
     "data": {
      "text/plain": [
       "2"
      ]
     },
     "execution_count": 41,
     "metadata": {},
     "output_type": "execute_result"
    }
   ],
   "source": [
    "list = [6,[5,[1,2]],4,[3,0]]\n",
    "list[1][1][1]"
   ]
  },
  {
   "cell_type": "code",
   "execution_count": 48,
   "metadata": {},
   "outputs": [
    {
     "name": "stdout",
     "output_type": "stream",
     "text": [
      "15\n"
     ]
    }
   ],
   "source": [
    "d = 'dive\\ninto\\ncode\\t' # \\n,\\tも1文字として扱われる \n",
    "\n",
    "print(len(d))"
   ]
  },
  {
   "cell_type": "code",
   "execution_count": 53,
   "metadata": {},
   "outputs": [
    {
     "data": {
      "text/plain": [
       "3.0"
      ]
     },
     "execution_count": 53,
     "metadata": {},
     "output_type": "execute_result"
    }
   ],
   "source": [
    "n = 3.14\n",
    "round(n, 0)"
   ]
  },
  {
   "cell_type": "code",
   "execution_count": null,
   "metadata": {},
   "outputs": [],
   "source": []
  }
 ],
 "metadata": {
  "kernelspec": {
   "display_name": "Python 3",
   "language": "python",
   "name": "python3"
  },
  "language_info": {
   "codemirror_mode": {
    "name": "ipython",
    "version": 3
   },
   "file_extension": ".py",
   "mimetype": "text/x-python",
   "name": "python",
   "nbconvert_exporter": "python",
   "pygments_lexer": "ipython3",
   "version": "3.7.6"
  }
 },
 "nbformat": 4,
 "nbformat_minor": 4
}
