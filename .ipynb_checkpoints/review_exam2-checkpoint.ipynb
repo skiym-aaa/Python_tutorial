{
 "cells": [
  {
   "cell_type": "code",
   "execution_count": 1,
   "metadata": {},
   "outputs": [],
   "source": [
    "# 1\n",
    "\n",
    "# Pythonの対応可能領域はAwk,Perlと比べて広い"
   ]
  },
  {
   "cell_type": "code",
   "execution_count": 2,
   "metadata": {},
   "outputs": [],
   "source": [
    "# 2\n",
    "\n",
    "# インタープリタがスクリプト名(スクリプトファイル名)と続く引数群を知らされると、これらの文字列はリストとなりsysモジュールの変数argvに割り当てられる。\n",
    "# import sysを実行することでこのリストにアクセスできる。"
   ]
  },
  {
   "cell_type": "code",
   "execution_count": 3,
   "metadata": {},
   "outputs": [],
   "source": [
    "# 3\n",
    "\n",
    "# 切り下げ除算を行って整数解を得たい場合は(剰余を捨てたい場合は)//演算子を使い、剰余の見えたい場合は%演算子を使う。"
   ]
  },
  {
   "cell_type": "code",
   "execution_count": 4,
   "metadata": {},
   "outputs": [],
   "source": [
    "# 4\n",
    "\n",
    "# //は剰余を切り捨て整数解のみ"
   ]
  },
  {
   "cell_type": "code",
   "execution_count": 5,
   "metadata": {},
   "outputs": [],
   "source": [
    "# 5\n",
    "\n",
    "# 対話型インタープリタでは文字列は引用符に囲まれ、特殊文字はバックスラッシュでエスケープされた状態で出力される。\n",
    "# print()関数では全体を囲む引用符が除去され、エスケープ文字や特殊文字がプリントされた状態で出力される。"
   ]
  },
  {
   "cell_type": "code",
   "execution_count": 6,
   "metadata": {},
   "outputs": [
    {
     "ename": "NameError",
     "evalue": "name 'b' is not defined",
     "output_type": "error",
     "traceback": [
      "\u001b[0;31m---------------------------------------------------------------------------\u001b[0m",
      "\u001b[0;31mNameError\u001b[0m                                 Traceback (most recent call last)",
      "\u001b[0;32m<ipython-input-6-56b9e46e97b8>\u001b[0m in \u001b[0;36m<module>\u001b[0;34m\u001b[0m\n\u001b[1;32m      5\u001b[0m \u001b[0;34m\u001b[0m\u001b[0m\n\u001b[1;32m      6\u001b[0m \u001b[0mZen\u001b[0m \u001b[0;34m=\u001b[0m \u001b[0;34m'BeautifulIsBetterThanUgly'\u001b[0m\u001b[0;34m\u001b[0m\u001b[0;34m\u001b[0m\u001b[0m\n\u001b[0;32m----> 7\u001b[0;31m \u001b[0mZen\u001b[0m\u001b[0;34m[\u001b[0m\u001b[0;36m1\u001b[0m\u001b[0;34m:\u001b[0m\u001b[0;36m10\u001b[0m\u001b[0;34m]\u001b[0m \u001b[0;34m+\u001b[0m \u001b[0mb\u001b[0m\u001b[0;34m\u001b[0m\u001b[0;34m\u001b[0m\u001b[0m\n\u001b[0m",
      "\u001b[0;31mNameError\u001b[0m: name 'b' is not defined"
     ]
    }
   ],
   "source": [
    "# 6\n",
    "# 7\n",
    "\n",
    "# スライシングでは範囲外のインデックスを指定してもいい具合に処理してくれる。\n",
    "\n",
    "Zen = 'BeautifulIsBetterThanUgly'\n",
    "Zen[1:10] + b"
   ]
  },
  {
   "cell_type": "code",
   "execution_count": 7,
   "metadata": {},
   "outputs": [
    {
     "name": "stdout",
     "output_type": "stream",
     "text": [
      "0,1,1,2,3,5,8,"
     ]
    }
   ],
   "source": [
    "# 8\n",
    "\n",
    "a, b = 0, 1\n",
    "while a < 10:\n",
    "    print(a, end=',')\n",
    "    a, b = b, a+b\n",
    "    # 0,1\n",
    "    # 1,1\n",
    "    # 1,2"
   ]
  },
  {
   "cell_type": "code",
   "execution_count": 10,
   "metadata": {},
   "outputs": [
    {
     "name": "stdout",
     "output_type": "stream",
     "text": [
      "['September', 'January', 'January', 'March', 'May', 'July', 'September']\n"
     ]
    }
   ],
   "source": [
    "# 9\n",
    "\n",
    "months = ['January', 'March', 'May', 'July']\n",
    "months.append('September')\n",
    "for month in months[:]:\n",
    "    if len(month) > 5:\n",
    "        months.insert(0,month)\n",
    "\n",
    "print(months)"
   ]
  },
  {
   "cell_type": "code",
   "execution_count": 15,
   "metadata": {},
   "outputs": [
    {
     "name": "stdout",
     "output_type": "stream",
     "text": [
      "2 is a prime number\n",
      "3 is a prime number\n",
      "4 equals 2 * 2\n",
      "5 is a prime number\n",
      "6 equals 2 * 3\n",
      "7 is a prime number\n",
      "8 equals 2 * 4\n",
      "9 equals 3 * 3\n"
     ]
    }
   ],
   "source": [
    "# 10\n",
    "\n",
    "for n in range(2, 10):\n",
    "            for x in range(2 ,n):\n",
    "                      if n % x == 0:\n",
    "                                print(n, 'equals', x, '*', n//x)\n",
    "                                break\n",
    "            else:\n",
    "                      print(n,'is a prime number')\n",
    "\n",
    "# continue文は繰り返しを中断してループの先頭に戻る"
   ]
  },
  {
   "cell_type": "code",
   "execution_count": 16,
   "metadata": {},
   "outputs": [
    {
     "name": "stdout",
     "output_type": "stream",
     "text": [
      "-3, -6, -9, -12, -15, "
     ]
    }
   ],
   "source": [
    "# 11\n",
    "\n",
    "for i in range(-3, -18, -3):\n",
    "    print(i, end=\", \")"
   ]
  },
  {
   "cell_type": "code",
   "execution_count": 18,
   "metadata": {},
   "outputs": [
    {
     "name": "stdout",
     "output_type": "stream",
     "text": [
      "0 Now\n",
      "1 is\n",
      "2 better\n",
      "3 than\n",
      "4 never\n"
     ]
    }
   ],
   "source": [
    "# 12\n",
    "\n",
    "Zen = ['Now','is','better','than','never']\n",
    "for i ,v in enumerate(Zen):\n",
    "    print(i, v)"
   ]
  },
  {
   "cell_type": "code",
   "execution_count": 20,
   "metadata": {},
   "outputs": [
    {
     "name": "stdout",
     "output_type": "stream",
     "text": [
      "5\n"
     ]
    }
   ],
   "source": [
    "# 13\n",
    "\n",
    "i = 1\n",
    "i = 2\n",
    "\n",
    "def f(arg):\n",
    "    i = 3\n",
    "    print(arg)\n",
    "\n",
    "i = 4\n",
    "i = 5\n",
    "\n",
    "f(i)\n",
    "\n",
    "# デフォルト値の評価は一度しか起きない。"
   ]
  },
  {
   "cell_type": "code",
   "execution_count": 21,
   "metadata": {},
   "outputs": [
    {
     "name": "stdout",
     "output_type": "stream",
     "text": [
      "([4], [8])\n",
      "([4, 9], [8, 27])\n",
      "([4, 9, 16], [8, 27, 64])\n",
      "([4, 9, 16, 25], [8, 27, 64, 125])\n"
     ]
    }
   ],
   "source": [
    "# 14\n",
    "\n",
    "def culc(a, b, squares=[], cubes=[]):\n",
    "    squares.append(a ** 2)\n",
    "    cubes.append(b ** 3)\n",
    "    return squares, cubes\n",
    "\n",
    "print(culc(2,2))\n",
    "print(culc(3,3))\n",
    "print(culc(4,4))\n",
    "print(culc(5,5))"
   ]
  },
  {
   "cell_type": "code",
   "execution_count": 24,
   "metadata": {},
   "outputs": [
    {
     "name": "stdout",
     "output_type": "stream",
     "text": [
      "I live in USA .\n",
      "My company is located in Cikini , Jakarta .\n"
     ]
    }
   ],
   "source": [
    "# 15\n",
    "\n",
    "def location(city, state='NewYork', country='USA'):\n",
    "    print(\"I live in\", country, \".\")\n",
    "    print(\"My company is located in\",city,\",\",state,\".\")\n",
    "\n",
    "location(state='Jakarta', city='Cikini')\n",
    "\n",
    "# 関数をコールするときは、必ず位置引数が先でキーワード引数が後\n",
    "# キーワード引数の順序は問わない"
   ]
  },
  {
   "cell_type": "code",
   "execution_count": 26,
   "metadata": {},
   "outputs": [
    {
     "name": "stdout",
     "output_type": "stream",
     "text": [
      "flowershop: Iris\n",
      "bouquet : Sunflower\n",
      "dried : Rose\n",
      "plants : Pachira\n",
      "Open: 9:30 am\n",
      "Close: 10:30 pm\n",
      "Monday and holidays are closed.\n"
     ]
    }
   ],
   "source": [
    "# 16\n",
    "\n",
    "def shop(name, *argsY, **argsX):\n",
    "    print(\"flowershop:\", name)\n",
    "    keys = sorted(argsX.keys())\n",
    "    for kw in keys:\n",
    "        print(kw, \":\", argsX[kw])\n",
    "    for Y in argsY:\n",
    "        print(Y)\n",
    "\n",
    "shop(\"Iris\",\"Open: 9:30 am\",\"Close: 10:30 pm\",\"Monday and holidays are closed.\",bouquet=\"Sunflower\",plants=\"Pachira\",dried=\"Rose\")"
   ]
  },
  {
   "cell_type": "code",
   "execution_count": 27,
   "metadata": {},
   "outputs": [],
   "source": [
    "# 17\n",
    "\n",
    "# docstring(ドキュメーション文字列)\n",
    "# docstringの1行目は、常にオブジェクトの目的の短く簡潔な要約を記述し、大文字で始まりピリオドで終わる行とすべきである。\n",
    "# docstringに2行目以降がある場合、2行目は空行としてようやくと他の記述を視覚的に分離すべきである。\n",
    "\n",
    "# 関数注釈（アノテーション）は関数の__annotations__属性にディクショナリとして格納され、関数のほかの部分にはいかなる影響も及ぼさない。"
   ]
  },
  {
   "cell_type": "code",
   "execution_count": 29,
   "metadata": {},
   "outputs": [
    {
     "name": "stdout",
     "output_type": "stream",
     "text": [
      "[0, 9, 36, 81]\n"
     ]
    }
   ],
   "source": [
    "# 18\n",
    "\n",
    "# squares = []\n",
    "# for x in range(0, 10, 3):\n",
    "#     squares.append(x ** 2)\n",
    "squares = [x ** 2 for x in range(0, 10, 3)]\n",
    "\n",
    "print(squares)"
   ]
  },
  {
   "cell_type": "code",
   "execution_count": 40,
   "metadata": {},
   "outputs": [
    {
     "name": "stdout",
     "output_type": "stream",
     "text": [
      "[(1, 4, 8), (3, 9, 27), (5, 25, 125)]\n"
     ]
    }
   ],
   "source": [
    "# 19\n",
    "\n",
    "matrix = [[1, 3, 5], [4, 9, 25], [8, 27, 125]]\n",
    "# power = [[row[i] for row in matrix] for i in range(3)]\n",
    "power = list(zip(*matrix))\n",
    "# *演算子を使って関数をコールすることで、リストやタプルからアンパックした引数を渡すことができる\n",
    "print(power)"
   ]
  },
  {
   "cell_type": "code",
   "execution_count": 42,
   "metadata": {},
   "outputs": [
    {
     "name": "stdout",
     "output_type": "stream",
     "text": [
      "[(1, 3), (1, 2), (1, 5), (2, 3), (2, 5), (3, 2), (3, 5)]\n"
     ]
    }
   ],
   "source": [
    "# 20\n",
    "\n",
    "# combs = []\n",
    "# for x in [1,2,3]:\n",
    "#     for y in [3,2,5]:\n",
    "#         if x != y:\n",
    "#             combs.append((x, y))\n",
    "combs = [(a,b) for a in [1,2,3] for b in [3,2,5] if a != b]\n",
    "\n",
    "print(combs)"
   ]
  },
  {
   "cell_type": "code",
   "execution_count": 43,
   "metadata": {},
   "outputs": [
    {
     "name": "stdout",
     "output_type": "stream",
     "text": [
      "[50, 30, 5, 20, 15, 1]\n"
     ]
    }
   ],
   "source": [
    "# 21\n",
    "\n",
    "list = [-10, 1, 15, 20, 30]\n",
    "list.append(50)\n",
    "list.sort(reverse = True)\n",
    "list.insert(2,5)\n",
    "list.pop(-1)\n",
    "print(list)"
   ]
  },
  {
   "cell_type": "code",
   "execution_count": 44,
   "metadata": {},
   "outputs": [
    {
     "name": "stdout",
     "output_type": "stream",
     "text": [
      "FtBtTns\n"
     ]
    }
   ],
   "source": [
    "# 22\n",
    "\n",
    "Zen = 'FlatIsBetterThanNested'\n",
    "print(Zen[0:20:3])"
   ]
  },
  {
   "cell_type": "code",
   "execution_count": 45,
   "metadata": {},
   "outputs": [],
   "source": [
    "# 23\n",
    "\n",
    "# 空の集合を生成するのにはset()\n",
    "# list,dict,set = mutable\n",
    "# str,tuple = imutable"
   ]
  },
  {
   "cell_type": "code",
   "execution_count": 47,
   "metadata": {},
   "outputs": [
    {
     "data": {
      "text/plain": [
       "True"
      ]
     },
     "execution_count": 47,
     "metadata": {},
     "output_type": "execute_result"
    }
   ],
   "source": [
    "# 24\n",
    "\n",
    "'Matplotlib' > 'NumPy' > 'pandas' > 'scikit-learn'"
   ]
  },
  {
   "cell_type": "code",
   "execution_count": 49,
   "metadata": {},
   "outputs": [
    {
     "data": {
      "text/plain": [
       "True"
      ]
     },
     "execution_count": 49,
     "metadata": {},
     "output_type": "execute_result"
    }
   ],
   "source": [
    "1 > -1 == (1-2)"
   ]
  },
  {
   "cell_type": "code",
   "execution_count": 54,
   "metadata": {},
   "outputs": [
    {
     "data": {
      "text/plain": [
       "False"
      ]
     },
     "execution_count": 54,
     "metadata": {},
     "output_type": "execute_result"
    }
   ],
   "source": [
    "('bb', 'c') > ('bcd', 'a')"
   ]
  },
  {
   "cell_type": "code",
   "execution_count": 55,
   "metadata": {},
   "outputs": [],
   "source": [
    "# 25\n",
    "\n",
    "# sys.pathは以下の場所に初期化されている\n",
    "# 入力スクリプトのあるディレクトリ、PYTHONPATH,インストールごとのデフォルト"
   ]
  },
  {
   "cell_type": "code",
   "execution_count": 57,
   "metadata": {},
   "outputs": [
    {
     "data": {
      "text/plain": [
       "['__breakpointhook__',\n",
       " '__displayhook__',\n",
       " '__doc__',\n",
       " '__excepthook__',\n",
       " '__interactivehook__',\n",
       " '__loader__',\n",
       " '__name__',\n",
       " '__package__',\n",
       " '__spec__',\n",
       " '__stderr__',\n",
       " '__stdin__',\n",
       " '__stdout__',\n",
       " '_clear_type_cache',\n",
       " '_current_frames',\n",
       " '_debugmallocstats',\n",
       " '_framework',\n",
       " '_getframe',\n",
       " '_git',\n",
       " '_home',\n",
       " '_xoptions',\n",
       " 'abiflags',\n",
       " 'api_version',\n",
       " 'argv',\n",
       " 'base_exec_prefix',\n",
       " 'base_prefix',\n",
       " 'breakpointhook',\n",
       " 'builtin_module_names',\n",
       " 'byteorder',\n",
       " 'call_tracing',\n",
       " 'callstats',\n",
       " 'copyright',\n",
       " 'displayhook',\n",
       " 'dont_write_bytecode',\n",
       " 'exc_info',\n",
       " 'excepthook',\n",
       " 'exec_prefix',\n",
       " 'executable',\n",
       " 'exit',\n",
       " 'flags',\n",
       " 'float_info',\n",
       " 'float_repr_style',\n",
       " 'get_asyncgen_hooks',\n",
       " 'get_coroutine_origin_tracking_depth',\n",
       " 'get_coroutine_wrapper',\n",
       " 'getallocatedblocks',\n",
       " 'getcheckinterval',\n",
       " 'getdefaultencoding',\n",
       " 'getdlopenflags',\n",
       " 'getfilesystemencodeerrors',\n",
       " 'getfilesystemencoding',\n",
       " 'getprofile',\n",
       " 'getrecursionlimit',\n",
       " 'getrefcount',\n",
       " 'getsizeof',\n",
       " 'getswitchinterval',\n",
       " 'gettrace',\n",
       " 'hash_info',\n",
       " 'hexversion',\n",
       " 'implementation',\n",
       " 'int_info',\n",
       " 'intern',\n",
       " 'is_finalizing',\n",
       " 'last_traceback',\n",
       " 'last_type',\n",
       " 'last_value',\n",
       " 'maxsize',\n",
       " 'maxunicode',\n",
       " 'meta_path',\n",
       " 'modules',\n",
       " 'path',\n",
       " 'path_hooks',\n",
       " 'path_importer_cache',\n",
       " 'platform',\n",
       " 'prefix',\n",
       " 'ps1',\n",
       " 'ps2',\n",
       " 'ps3',\n",
       " 'set_asyncgen_hooks',\n",
       " 'set_coroutine_origin_tracking_depth',\n",
       " 'set_coroutine_wrapper',\n",
       " 'setcheckinterval',\n",
       " 'setdlopenflags',\n",
       " 'setprofile',\n",
       " 'setrecursionlimit',\n",
       " 'setswitchinterval',\n",
       " 'settrace',\n",
       " 'stderr',\n",
       " 'stdin',\n",
       " 'stdout',\n",
       " 'thread_info',\n",
       " 'version',\n",
       " 'version_info',\n",
       " 'warnoptions']"
      ]
     },
     "execution_count": 57,
     "metadata": {},
     "output_type": "execute_result"
    }
   ],
   "source": [
    "# 26\n",
    "\n",
    "import sys\n",
    "dir(sys)"
   ]
  },
  {
   "cell_type": "code",
   "execution_count": 60,
   "metadata": {},
   "outputs": [
    {
     "name": "stdout",
     "output_type": "stream",
     "text": [
      "2.71828, 3.142\n"
     ]
    }
   ],
   "source": [
    "# 27\n",
    "\n",
    "import math\n",
    "print('{1:.5f}, {0:.3f}'.format(math.pi, math.e))"
   ]
  },
  {
   "cell_type": "code",
   "execution_count": 61,
   "metadata": {},
   "outputs": [
    {
     "name": "stdin",
     "output_type": "stream",
     "text": [
      "整数a: 3\n",
      "整数b: 0\n"
     ]
    },
    {
     "name": "stdout",
     "output_type": "stream",
     "text": [
      "27\n",
      "C\n",
      "G\n"
     ]
    }
   ],
   "source": [
    "# 28\n",
    "\n",
    "try:\n",
    "    int_a = int(input('整数a:'))\n",
    "    int_b = int(input('整数b:'))\n",
    "    print(int_a ** 3)\n",
    "    print((int_a ** 3) / int_b)\n",
    "except(ZeroDivisionError) :\n",
    "    print('C')\n",
    "except(ValueError) as v:\n",
    "    print(type(v))\n",
    "    print('D')\n",
    "except:\n",
    "    print('E')\n",
    "else:\n",
    "    print('F')\n",
    "finally:\n",
    "    print('G')"
   ]
  },
  {
   "cell_type": "code",
   "execution_count": 62,
   "metadata": {},
   "outputs": [],
   "source": [
    "# 29\n",
    "\n",
    "# [Ctrl]+[C]キーなどでユーザーがプログラムに割り込みをかけると、KeyboardInterrupt例外が送出される。"
   ]
  },
  {
   "cell_type": "code",
   "execution_count": 63,
   "metadata": {},
   "outputs": [
    {
     "name": "stdout",
     "output_type": "stream",
     "text": [
      "David is a\n",
      "strategic\n",
      "AI\n"
     ]
    }
   ],
   "source": [
    "# 30\n",
    "# 31\n",
    "\n",
    "class wexal(Exception):\n",
    "    pass\n",
    "\n",
    "name = 'David'\n",
    "\n",
    "def func(name: int):\n",
    "    try:\n",
    "        if name != 0:\n",
    "            raise_his_character(name)\n",
    "    except wexal:\n",
    "        print('strategic')\n",
    "        raise Exception\n",
    "def raise_his_character(a):\n",
    "    print(a, 'is a')\n",
    "    raise wexal\n",
    "    print('naughty boy')\n",
    "\n",
    "try:\n",
    "    func(name)\n",
    "except Exception:\n",
    "    print('AI')"
   ]
  },
  {
   "cell_type": "code",
   "execution_count": 64,
   "metadata": {},
   "outputs": [
    {
     "name": "stdout",
     "output_type": "stream",
     "text": [
      "A: init\n",
      "B: nonlocal\n",
      "C: nonlocal\n",
      "D: global\n"
     ]
    }
   ],
   "source": [
    "# 32\n",
    "\n",
    "def scope():\n",
    "    loc = \"init\"\n",
    "    def do_local():\n",
    "        loc = \"local\"\n",
    "    def do_nonlocal():\n",
    "        nonlocal loc\n",
    "        loc = \"nonlocal\"\n",
    "    def do_global():\n",
    "        global loc\n",
    "        loc = \"global\"\n",
    "\n",
    "    do_local()\n",
    "    print(\"A:\", loc)\n",
    "    do_nonlocal()\n",
    "    print(\"B:\", loc)\n",
    "    do_global()\n",
    "    print(\"C:\", loc)\n",
    "\n",
    "scope()\n",
    "print(\"D:\", loc)"
   ]
  },
  {
   "cell_type": "code",
   "execution_count": 66,
   "metadata": {},
   "outputs": [
    {
     "name": "stdout",
     "output_type": "stream",
     "text": [
      "Need Speed?\n",
      "I'm Saya.\n",
      "Need Speed?\n",
      "I'm David.\n"
     ]
    }
   ],
   "source": [
    "# 33\n",
    "\n",
    "class kusanagi():\n",
    "    def s(self):\n",
    "        print(\"Need Speed?\")\n",
    "        self.m()\n",
    "    def m(self):\n",
    "        print(\"I'm Saya.\")\n",
    "class wexal(kusanagi):\n",
    "        def m(self):\n",
    "            print(\"I'm David.\")\n",
    "\n",
    "k = kusanagi()\n",
    "w = wexal()\n",
    "k.s()\n",
    "w.s()"
   ]
  },
  {
   "cell_type": "code",
   "execution_count": 69,
   "metadata": {},
   "outputs": [
    {
     "name": "stdout",
     "output_type": "stream",
     "text": [
      "['/Users/yukisakiyama/opt/anaconda3/lib/python3.7/site-packages/ipykernel_launcher.py', '-f', '/Users/yukisakiyama/Library/Jupyter/runtime/kernel-ae4c39bf-5e1d-4f74-a9e5-bb35de588395.json']\n"
     ]
    }
   ],
   "source": [
    "# 34\n",
    "\n",
    "import sys\n",
    "print(sys.argv[0:3])"
   ]
  },
  {
   "cell_type": "code",
   "execution_count": 70,
   "metadata": {},
   "outputs": [
    {
     "ename": "TypeError",
     "evalue": "'NoneType' object is not subscriptable",
     "output_type": "error",
     "traceback": [
      "\u001b[0;31m---------------------------------------------------------------------------\u001b[0m",
      "\u001b[0;31mTypeError\u001b[0m                                 Traceback (most recent call last)",
      "\u001b[0;32m<ipython-input-70-9986693a0660>\u001b[0m in \u001b[0;36m<module>\u001b[0;34m\u001b[0m\n\u001b[1;32m      4\u001b[0m \u001b[0mprog\u001b[0m \u001b[0;34m=\u001b[0m \u001b[0mre\u001b[0m\u001b[0;34m.\u001b[0m\u001b[0mcompile\u001b[0m\u001b[0;34m(\u001b[0m\u001b[0;34m'(K|S)u(r|s)(a|o)nf?(a|o)(o|m)?g?i?(saya)?'\u001b[0m\u001b[0;34m,\u001b[0m \u001b[0mre\u001b[0m\u001b[0;34m.\u001b[0m\u001b[0mIGNORECASE\u001b[0m\u001b[0;34m)\u001b[0m\u001b[0;34m\u001b[0m\u001b[0;34m\u001b[0m\u001b[0m\n\u001b[1;32m      5\u001b[0m \u001b[0mret\u001b[0m \u001b[0;34m=\u001b[0m \u001b[0mprog\u001b[0m\u001b[0;34m.\u001b[0m\u001b[0msearch\u001b[0m\u001b[0;34m(\u001b[0m\u001b[0;34m'kurofune'\u001b[0m\u001b[0;34m)\u001b[0m\u001b[0;34m\u001b[0m\u001b[0;34m\u001b[0m\u001b[0m\n\u001b[0;32m----> 6\u001b[0;31m \u001b[0mprint\u001b[0m\u001b[0;34m(\u001b[0m\u001b[0mret\u001b[0m\u001b[0;34m[\u001b[0m\u001b[0;36m0\u001b[0m\u001b[0;34m]\u001b[0m\u001b[0;34m)\u001b[0m\u001b[0;34m\u001b[0m\u001b[0;34m\u001b[0m\u001b[0m\n\u001b[0m",
      "\u001b[0;31mTypeError\u001b[0m: 'NoneType' object is not subscriptable"
     ]
    }
   ],
   "source": [
    "# 35\n",
    "\n",
    "import re\n",
    "prog = re.compile('(K|S)u(r|s)(a|o)nf?(a|o)(o|m)?g?i?(saya)?', re.IGNORECASE)\n",
    "ret = prog.search('kurofune')\n",
    "print(ret[0])"
   ]
  },
  {
   "cell_type": "code",
   "execution_count": 73,
   "metadata": {},
   "outputs": [
    {
     "data": {
      "text/plain": [
       "'pear'"
      ]
     },
     "execution_count": 73,
     "metadata": {},
     "output_type": "execute_result"
    }
   ],
   "source": [
    "# 36\n",
    "\n",
    "import random\n",
    "\n",
    "random.choice(['apple','pear','banana'])"
   ]
  },
  {
   "cell_type": "code",
   "execution_count": 74,
   "metadata": {},
   "outputs": [
    {
     "data": {
      "text/plain": [
       "[0, 4, 9]"
      ]
     },
     "execution_count": 74,
     "metadata": {},
     "output_type": "execute_result"
    }
   ],
   "source": [
    "random.sample(range(10),3)"
   ]
  },
  {
   "cell_type": "code",
   "execution_count": 75,
   "metadata": {},
   "outputs": [
    {
     "data": {
      "text/plain": [
       "3"
      ]
     },
     "execution_count": 75,
     "metadata": {},
     "output_type": "execute_result"
    }
   ],
   "source": [
    "random.randrange(6)"
   ]
  },
  {
   "cell_type": "code",
   "execution_count": 76,
   "metadata": {},
   "outputs": [
    {
     "name": "stdout",
     "output_type": "stream",
     "text": [
      "2020-08-15\n"
     ]
    }
   ],
   "source": [
    "# 37\n",
    "\n",
    "from datetime import date\n",
    "\n",
    "now = date.today()\n",
    "print(now)"
   ]
  },
  {
   "cell_type": "code",
   "execution_count": 77,
   "metadata": {},
   "outputs": [],
   "source": [
    "# 38\n",
    "\n",
    "# loggingモジュールの優先度\n",
    "# DEBUG、INFO、WARNING、ERROR、CRITICAL"
   ]
  },
  {
   "cell_type": "code",
   "execution_count": 78,
   "metadata": {},
   "outputs": [
    {
     "ename": "SyntaxError",
     "evalue": "invalid syntax (<ipython-input-78-76d4140fb1ce>, line 3)",
     "output_type": "error",
     "traceback": [
      "\u001b[0;36m  File \u001b[0;32m\"<ipython-input-78-76d4140fb1ce>\"\u001b[0;36m, line \u001b[0;32m3\u001b[0m\n\u001b[0;31m    pip list\u001b[0m\n\u001b[0m           ^\u001b[0m\n\u001b[0;31mSyntaxError\u001b[0m\u001b[0;31m:\u001b[0m invalid syntax\n"
     ]
    }
   ],
   "source": [
    "# 39\n",
    "\n",
    "# pip list インストールしたパッケージ一覧\n",
    "# pip show パッケージの詳細"
   ]
  },
  {
   "cell_type": "code",
   "execution_count": null,
   "metadata": {},
   "outputs": [],
   "source": [
    "# 40\n",
    "\n",
    "# 変数とモジュールの補完機能は、インタープリタの起動時には有効になっている"
   ]
  }
 ],
 "metadata": {
  "kernelspec": {
   "display_name": "Python 3",
   "language": "python",
   "name": "python3"
  },
  "language_info": {
   "codemirror_mode": {
    "name": "ipython",
    "version": 3
   },
   "file_extension": ".py",
   "mimetype": "text/x-python",
   "name": "python",
   "nbconvert_exporter": "python",
   "pygments_lexer": "ipython3",
   "version": "3.7.6"
  }
 },
 "nbformat": 4,
 "nbformat_minor": 4
}
