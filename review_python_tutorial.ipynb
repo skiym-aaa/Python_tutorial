{
 "cells": [
  {
   "cell_type": "code",
   "execution_count": 1,
   "metadata": {},
   "outputs": [],
   "source": [
    "# 第１章(1,2.5%)\n",
    "\n",
    "# Pythonの特徴\n",
    "# - 高水準のデータ型が、複雑な操作を単一文で表記することを可能にしている。\n",
    "# - 文のグルーピングは、カッコで囲うことでなくインデントで行われる。\n",
    "# - 変数や引数の宣言が不要"
   ]
  },
  {
   "cell_type": "code",
   "execution_count": 2,
   "metadata": {},
   "outputs": [],
   "source": [
    "# 第２章(1,2.5%)\n",
    "\n",
    "# インタープリンタの終了 'quit()'\n",
    "\n",
    "# >>> プライマリプロンプト\n",
    "# ... セカンダリプロンプト\n",
    "\n",
    "# デフォルトではPythonのソースファイルはUTF-8(世界的に最もポピュラーな文字コード)でエンコードしてあるものとして扱われる。\n",
    "# 他のエンコーディングをする場合 '# -*- coding: エンコーディング名 -*-'"
   ]
  },
  {
   "cell_type": "code",
   "execution_count": 3,
   "metadata": {},
   "outputs": [
    {
     "name": "stdout",
     "output_type": "stream",
     "text": [
      "C:\\some\\name\n"
     ]
    }
   ],
   "source": [
    "# 第３章(6,15.0%)\n",
    "\n",
    "# 除算は常にfloatを返す\n",
    "# 切り下げ除算は '//'\n",
    "# 複素数を示すのに接頭辞[j]または[J]を使う\n",
    "# バックスラッシュでクオート文字のエスケープができる\n",
    "\n",
    "# \\を前置した文字が特殊文字に解釈されるのが嫌な時はraw文字列を使う\n",
    "print(r'C:\\some\\name')"
   ]
  },
  {
   "cell_type": "code",
   "execution_count": null,
   "metadata": {},
   "outputs": [],
   "source": [
    "# 大きすぎるインデックスを指定するとエラーになる　⇄　スライシングは範囲外の指定もOK\n",
    "\n",
    "# 文字列は変更不能体(immutable)\n",
    "# リストは変更可能体(mutable)\n",
    "# letters[:] → 全部, letters[:] = [] → 全部消す"
   ]
  }
 ],
 "metadata": {
  "kernelspec": {
   "display_name": "Python 3",
   "language": "python",
   "name": "python3"
  },
  "language_info": {
   "codemirror_mode": {
    "name": "ipython",
    "version": 3
   },
   "file_extension": ".py",
   "mimetype": "text/x-python",
   "name": "python",
   "nbconvert_exporter": "python",
   "pygments_lexer": "ipython3",
   "version": "3.7.6"
  }
 },
 "nbformat": 4,
 "nbformat_minor": 4
}
