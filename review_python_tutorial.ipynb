{
 "cells": [
  {
   "cell_type": "code",
   "execution_count": 1,
   "metadata": {},
   "outputs": [],
   "source": [
    "# 第１章(1,2.5%)\n",
    "\n",
    "# Pythonの特徴\n",
    "# - 高水準のデータ型が、複雑な操作を単一文で表記することを可能にしている。\n",
    "# - 文のグルーピングは、カッコで囲うことでなくインデントで行われる。\n",
    "# - 変数や引数の宣言が不要"
   ]
  },
  {
   "cell_type": "code",
   "execution_count": 2,
   "metadata": {},
   "outputs": [],
   "source": [
    "# 第２章(1,2.5%)\n",
    "\n",
    "# インタープリンタの終了 'quit()'\n",
    "\n",
    "# >>> プライマリプロンプト\n",
    "# ... セカンダリプロンプト\n",
    "\n",
    "# デフォルトではPythonのソースファイルはUTF-8(世界的に最もポピュラーな文字コード)でエンコードしてあるものとして扱われる。\n",
    "# 他のエンコーディングをする場合 '# -*- coding: エンコーディング名 -*-'"
   ]
  },
  {
   "cell_type": "code",
   "execution_count": 3,
   "metadata": {},
   "outputs": [
    {
     "name": "stdout",
     "output_type": "stream",
     "text": [
      "C:\\some\\name\n"
     ]
    }
   ],
   "source": [
    "# 第３章(6,15.0%)\n",
    "\n",
    "# 除算は常にfloatを返す\n",
    "# 切り下げ除算は '//'\n",
    "# 複素数を示すのに接頭辞[j]または[J]を使う\n",
    "# バックスラッシュでクオート文字のエスケープができる\n",
    "\n",
    "# \\を前置した文字が特殊文字に解釈されるのが嫌な時はraw文字列を使う\n",
    "print(r'C:\\some\\name')"
   ]
  },
  {
   "cell_type": "code",
   "execution_count": 4,
   "metadata": {},
   "outputs": [],
   "source": [
    "# 大きすぎるインデックスを指定するとエラーになる　⇄　スライシングは範囲外の指定もOK\n",
    "\n",
    "# 文字列は変更不能体(immutable)\n",
    "# リストは変更可能体(mutable)\n",
    "# letters[:] → 全部, letters[:] = [] → 全部消す"
   ]
  },
  {
   "cell_type": "code",
   "execution_count": 5,
   "metadata": {},
   "outputs": [
    {
     "name": "stdout",
     "output_type": "stream",
     "text": [
      "5\n"
     ]
    }
   ],
   "source": [
    "# 第４章(9,22.5%)\n",
    "\n",
    "# break文はそれを囲んだもっとも小さなforまたはwhileのループを抜ける\n",
    "# continue文はループの残りを飛ばして次回の反復にいく\n",
    "\n",
    "# デフォルト値の評価は、関数を定義した時点で定義を書いたスコープで行われる\n",
    "i = 5\n",
    "\n",
    "def f(arg=i):\n",
    "    print(arg)\n",
    "\n",
    "i = 6\n",
    "f()"
   ]
  },
  {
   "cell_type": "code",
   "execution_count": 6,
   "metadata": {},
   "outputs": [],
   "source": [
    "# *arguments = 位置引数を複数受け取れる, **keywords = キーワード引数を複数受け取れる(keyは何でもよい)"
   ]
  },
  {
   "cell_type": "code",
   "execution_count": 7,
   "metadata": {},
   "outputs": [],
   "source": [
    "# 第５章(7,17.5%)\n",
    "\n",
    "# a.insert(len(a),x) は a.append(x)と同価\n",
    "# list.remove(x) 値がxである最初のアイテムを削除する\n",
    "# list.pop([i]) 指定された位置のアイテムをリストから削除し、アイテムを返す\n",
    "# list.clear() は del a[:]と同価\n",
    "\n",
    "# キュー from collections import deque\n",
    "# queue = deque([])\n",
    "# queue.popleft()\n",
    "\n",
    "# squares = list(map(lambda x: x**2, range(10))) は squares = [x**2 for x in range(10)] と同価"
   ]
  },
  {
   "cell_type": "code",
   "execution_count": 8,
   "metadata": {},
   "outputs": [
    {
     "data": {
      "text/plain": [
       "[(1, 5, 9), (2, 6, 10), (3, 7, 11), (4, 8, 12)]"
      ]
     },
     "execution_count": 8,
     "metadata": {},
     "output_type": "execute_result"
    }
   ],
   "source": [
    "matrix = [\n",
    "    [1,2,3,4],\n",
    "    [5,6,7,8],\n",
    "    [9,10,11,12],\n",
    "]\n",
    "\n",
    "list(zip(*matrix))"
   ]
  },
  {
   "cell_type": "code",
   "execution_count": 9,
   "metadata": {},
   "outputs": [],
   "source": [
    "# タプルは変更不能(immutable),listは変更可能(mutable)"
   ]
  },
  {
   "cell_type": "code",
   "execution_count": 10,
   "metadata": {},
   "outputs": [],
   "source": [
    "# 集合は{}またはset()で作る。\n",
    "# 重複の削除ができる。"
   ]
  },
  {
   "cell_type": "code",
   "execution_count": 12,
   "metadata": {},
   "outputs": [
    {
     "name": "stdout",
     "output_type": "stream",
     "text": [
      "0 tic\n",
      "1 tac\n",
      "2 toe\n"
     ]
    }
   ],
   "source": [
    "# items()メソッドを使うとキーとそれに対応した値を同時に得られる。\n",
    "\n",
    "# enumerate()関数を使うと位置インデックスとそれに対応した値を同時に得ることができる\n",
    "for i, v in enumerate(['tic', 'tac', 'toe']):\n",
    "    print(i,v)"
   ]
  },
  {
   "cell_type": "code",
   "execution_count": null,
   "metadata": {},
   "outputs": [],
   "source": []
  }
 ],
 "metadata": {
  "kernelspec": {
   "display_name": "Python 3",
   "language": "python",
   "name": "python3"
  },
  "language_info": {
   "codemirror_mode": {
    "name": "ipython",
    "version": 3
   },
   "file_extension": ".py",
   "mimetype": "text/x-python",
   "name": "python",
   "nbconvert_exporter": "python",
   "pygments_lexer": "ipython3",
   "version": "3.7.6"
  }
 },
 "nbformat": 4,
 "nbformat_minor": 4
}
