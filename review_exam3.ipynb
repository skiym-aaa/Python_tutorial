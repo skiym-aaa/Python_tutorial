{
 "cells": [
  {
   "cell_type": "code",
   "execution_count": 1,
   "metadata": {},
   "outputs": [],
   "source": [
    "# 1\n",
    "\n",
    "# 2\n",
    "\n",
    "# ファイル終端キャラクタ=[Ctrl] + [D]\n",
    "# インタープリタの起動方法として 'python -c コマンド [引数] ...'"
   ]
  },
  {
   "cell_type": "code",
   "execution_count": 2,
   "metadata": {},
   "outputs": [
    {
     "data": {
      "text/plain": [
       "2"
      ]
     },
     "execution_count": 2,
     "metadata": {},
     "output_type": "execute_result"
    }
   ],
   "source": [
    "# 3\n",
    "\n",
    "# 除算は常にfloatを返す\n",
    "# べき乗は右から計算される\n",
    "2 ** 1 ** 3"
   ]
  },
  {
   "cell_type": "code",
   "execution_count": 3,
   "metadata": {},
   "outputs": [
    {
     "name": "stdout",
     "output_type": "stream",
     "text": [
      "4 13.0 3.0\n"
     ]
    }
   ],
   "source": [
    "# 4\n",
    "\n",
    "v = 1\n",
    "w = 2\n",
    "v, w = w + 1, v + 3\n",
    "x = w ** 2 + 1\n",
    "y = x - 8 / 2\n",
    "z = y % 5\n",
    "print(w, y, z)"
   ]
  },
  {
   "cell_type": "code",
   "execution_count": 4,
   "metadata": {},
   "outputs": [
    {
     "data": {
      "text/plain": [
       "'Python'"
      ]
     },
     "execution_count": 4,
     "metadata": {},
     "output_type": "execute_result"
    }
   ],
   "source": [
    "# 5\n",
    "\n",
    "'Py' 'thon'"
   ]
  },
  {
   "cell_type": "code",
   "execution_count": 5,
   "metadata": {},
   "outputs": [
    {
     "name": "stdout",
     "output_type": "stream",
     "text": [
      "Simlx\n"
     ]
    }
   ],
   "source": [
    "# 6\n",
    "\n",
    "Zen = 'SimpleIsBetterThanComplex'\n",
    "print('{}{}{}'.format(Zen[0:3], Zen[-3], Zen[-1:]))"
   ]
  },
  {
   "cell_type": "code",
   "execution_count": 6,
   "metadata": {},
   "outputs": [
    {
     "ename": "TypeError",
     "evalue": "'str' object does not support item assignment",
     "output_type": "error",
     "traceback": [
      "\u001b[0;31m---------------------------------------------------------------------------\u001b[0m",
      "\u001b[0;31mTypeError\u001b[0m                                 Traceback (most recent call last)",
      "\u001b[0;32m<ipython-input-6-adfb50bd9eca>\u001b[0m in \u001b[0;36m<module>\u001b[0;34m\u001b[0m\n\u001b[1;32m      2\u001b[0m \u001b[0;34m\u001b[0m\u001b[0m\n\u001b[1;32m      3\u001b[0m \u001b[0mZen\u001b[0m \u001b[0;34m=\u001b[0m \u001b[0;34m'NowIsBetterThanNever'\u001b[0m\u001b[0;34m\u001b[0m\u001b[0;34m\u001b[0m\u001b[0m\n\u001b[0;32m----> 4\u001b[0;31m \u001b[0mZen\u001b[0m\u001b[0;34m[\u001b[0m\u001b[0;36m10\u001b[0m\u001b[0;34m]\u001b[0m \u001b[0;34m=\u001b[0m \u001b[0;34m'X'\u001b[0m\u001b[0;34m\u001b[0m\u001b[0;34m\u001b[0m\u001b[0m\n\u001b[0m",
      "\u001b[0;31mTypeError\u001b[0m: 'str' object does not support item assignment"
     ]
    }
   ],
   "source": [
    "# 7\n",
    "\n",
    "Zen = 'NowIsBetterThanNever'\n",
    "Zen[10] = 'X'"
   ]
  },
  {
   "cell_type": "code",
   "execution_count": 7,
   "metadata": {},
   "outputs": [
    {
     "name": "stdout",
     "output_type": "stream",
     "text": [
      "10,4,0,-2,"
     ]
    }
   ],
   "source": [
    "# 8\n",
    "\n",
    "a, b = 8, 10\n",
    "while a > 0:\n",
    "    print(b, end=',')\n",
    "    a -= 2\n",
    "    b -= a"
   ]
  },
  {
   "cell_type": "code",
   "execution_count": 10,
   "metadata": {},
   "outputs": [
    {
     "name": "stdout",
     "output_type": "stream",
     "text": [
      "['plum', 'kiwi', 'apple'] "
     ]
    }
   ],
   "source": [
    "# 9\n",
    "\n",
    "fruits = ['apple', 'kiwi', 'plum']\n",
    "for f in fruits[:]: #リスト全体のスライスコピーにループをかける\n",
    "    if len(f) < 5:\n",
    "        fruits.insert(0, f)\n",
    "        fruits.pop()\n",
    "\n",
    "print(fruits, end = ' ')"
   ]
  },
  {
   "cell_type": "code",
   "execution_count": 16,
   "metadata": {},
   "outputs": [
    {
     "name": "stdout",
     "output_type": "stream",
     "text": [
      "Found an even number: 2\n",
      "Found an odd number: 3\n",
      "Found an even number: 4\n",
      "Found an odd number: 5\n",
      "Found an even number: 6\n"
     ]
    }
   ],
   "source": [
    "# 10\n",
    "\n",
    "for num in range(2, 7):\n",
    "    if num % 2 == 1:\n",
    "        print(\"Found an odd number:\", num)\n",
    "        continue\n",
    "    print(\"Found an even number:\", num)\n",
    "    \n",
    "# breakはelseとセット\n",
    "# continueはループの残りを飛ばして次の反復へ"
   ]
  },
  {
   "cell_type": "code",
   "execution_count": 17,
   "metadata": {},
   "outputs": [
    {
     "name": "stdout",
     "output_type": "stream",
     "text": [
      "1,-2,-5,-8,"
     ]
    }
   ],
   "source": [
    "# 11\n",
    "\n",
    "for i in range(1, -10, -3):\n",
    "    print(i, end=\",\")"
   ]
  },
  {
   "cell_type": "code",
   "execution_count": 21,
   "metadata": {},
   "outputs": [
    {
     "name": "stdout",
     "output_type": "stream",
     "text": [
      "0 Simple\n",
      "1 is\n",
      "2 better\n",
      "3 than\n",
      "4 complex\n"
     ]
    }
   ],
   "source": [
    "# 12\n",
    "\n",
    "Zen = ['Simple','is','better','than','complex']\n",
    "# for i, v in enumerate(Zen):\n",
    "#     print(i, v)\n",
    "for i in range(len(Zen)):\n",
    "    print(i, Zen[i])"
   ]
  },
  {
   "cell_type": "code",
   "execution_count": 23,
   "metadata": {},
   "outputs": [
    {
     "name": "stdout",
     "output_type": "stream",
     "text": [
      "2\n"
     ]
    }
   ],
   "source": [
    "# 13\n",
    "\n",
    "i = 1\n",
    "i = 2\n",
    "\n",
    "def f(arg = 3):\n",
    "    i = 4\n",
    "    i = 5\n",
    "    print(arg)\n",
    "\n",
    "f(i)"
   ]
  },
  {
   "cell_type": "code",
   "execution_count": 24,
   "metadata": {},
   "outputs": [
    {
     "name": "stdout",
     "output_type": "stream",
     "text": [
      "([16], [1])\n",
      "([16, 9], [1, 8])\n",
      "([16, 9, 4], [1, 8, 27])\n",
      "([16, 9, 4, 1], [1, 8, 27, 64])\n"
     ]
    }
   ],
   "source": [
    "# 14\n",
    "\n",
    "def culc(a, b, squares=[], cubes=[]):\n",
    "    squares.append(a ** 2)\n",
    "    cubes.append(b ** 3)\n",
    "    return squares, cubes\n",
    "\n",
    "print(culc(4, 1))\n",
    "print(culc(3, 2))\n",
    "print(culc(2, 3))\n",
    "print(culc(1, 4))"
   ]
  },
  {
   "cell_type": "code",
   "execution_count": 25,
   "metadata": {},
   "outputs": [
    {
     "name": "stdout",
     "output_type": "stream",
     "text": [
      "I live in USA .\n",
      "My company is located in San Francisco , California .\n"
     ]
    }
   ],
   "source": [
    "# 15\n",
    "\n",
    "def location(city, state='NewYork', country='USA'):\n",
    "    print(\"I live in\", country, \".\")\n",
    "    print(\"My company is located in\",city,\",\",state,\".\")\n",
    "\n",
    "location('San Francisco', country='USA', state='California')"
   ]
  },
  {
   "cell_type": "code",
   "execution_count": 28,
   "metadata": {},
   "outputs": [
    {
     "name": "stdout",
     "output_type": "stream",
     "text": [
      "[(2, 'a'), (3, 'b'), (1, 'c')]\n"
     ]
    }
   ],
   "source": [
    "# 16\n",
    "\n",
    "pairs = [(3, 'b'),(1, 'c'),(2, 'a')]\n",
    "pairs.sort(key = lambda arg : arg[1])\n",
    "print(pairs)"
   ]
  },
  {
   "cell_type": "code",
   "execution_count": 29,
   "metadata": {},
   "outputs": [],
   "source": [
    "# 17\n",
    "\n",
    "# クラスにはCamelCase(単語の頭文字を大文字にして接続するスタイル)\n",
    "# 関数にはlower_case_with_underscores(小文字の単語同士をアンダースコアで繋ぐ)"
   ]
  },
  {
   "cell_type": "code",
   "execution_count": 30,
   "metadata": {},
   "outputs": [
    {
     "name": "stdout",
     "output_type": "stream",
     "text": [
      "[1, 4, -1, 3, 5]\n"
     ]
    }
   ],
   "source": [
    "# 18\n",
    "\n",
    "a = [1,3,4,6,3,5]\n",
    "a.insert(3, -1)\n",
    "a.pop(4)\n",
    "a.remove(3)\n",
    "print(a)"
   ]
  },
  {
   "cell_type": "code",
   "execution_count": 32,
   "metadata": {},
   "outputs": [
    {
     "name": "stdout",
     "output_type": "stream",
     "text": [
      "[0, 1, 8, 27, 64]\n"
     ]
    }
   ],
   "source": [
    "# 19\n",
    "\n",
    "# cubes = [ a ** 3 for a in range(5)]\n",
    "cubes = list(map(lambda a: a ** 3, range(5)))\n",
    "print(cubes)"
   ]
  },
  {
   "cell_type": "code",
   "execution_count": 35,
   "metadata": {},
   "outputs": [
    {
     "name": "stdout",
     "output_type": "stream",
     "text": [
      "[(3, 6), (3, 5), (2, 6), (2, 5), (1, 6), (1, 5)]\n"
     ]
    }
   ],
   "source": [
    "# 20\n",
    "\n",
    "# combs = []\n",
    "# for x in [3,2,1]:\n",
    "#     for y in [6,5]:\n",
    "#         if x != y:\n",
    "#             combs.append((x, y))\n",
    "combs = [(a,b) for a in [3, 2, 1] for b in [6,5] if a != b]\n",
    "\n",
    "print(combs)"
   ]
  },
  {
   "cell_type": "code",
   "execution_count": 43,
   "metadata": {},
   "outputs": [
    {
     "name": "stdout",
     "output_type": "stream",
     "text": [
      "[(1, 4, 7), (2, 5, 8), (3, 6, 9)]\n"
     ]
    }
   ],
   "source": [
    "# 21\n",
    "\n",
    "matrix = [[1, 2, 3], [4, 5, 6], [7, 8, 9]]\n",
    "# power = [[row[i] for row in matrix] for i in range(3)]\n",
    "power = list(zip(*matrix))\n",
    "\n",
    "print(power)"
   ]
  },
  {
   "cell_type": "code",
   "execution_count": 44,
   "metadata": {},
   "outputs": [
    {
     "name": "stdout",
     "output_type": "stream",
     "text": [
      "oBeav\n"
     ]
    }
   ],
   "source": [
    "# 22\n",
    "\n",
    "Zen = 'NowIsBetterThanNever'\n",
    "print(Zen[1:19:4])"
   ]
  },
  {
   "cell_type": "code",
   "execution_count": 45,
   "metadata": {},
   "outputs": [],
   "source": [
    "# 23\n",
    "\n",
    "# items()はキー&値\n",
    "# enumerate()関数は位置インデックス&値"
   ]
  },
  {
   "cell_type": "code",
   "execution_count": 46,
   "metadata": {},
   "outputs": [],
   "source": [
    "# 24\n",
    "\n",
    "# 25\n",
    "\n",
    "# 実行中のスクリプトのあるディレクトリは、検索パスの最初、標準ライブラリのパスよりも前方に置かれる。"
   ]
  },
  {
   "cell_type": "code",
   "execution_count": 47,
   "metadata": {},
   "outputs": [],
   "source": [
    "# 26\n",
    "\n",
    "# あるディレクトリを、パッケージを含むものとして扱わせるために必要とされるファイルは次のうちどれか。\n",
    "# __init__.py"
   ]
  },
  {
   "cell_type": "code",
   "execution_count": 48,
   "metadata": {},
   "outputs": [],
   "source": [
    "# 27\n",
    "\n",
    "# zfill()は左側をゼロパディング(符合含めて)\n",
    "# 標準モジュールjsonは、Pythonのデータ階層構造を取って文字列表現にコンバートすることができる。\n",
    "# このプロセスを「シリアライズ」という。シリアライズで文字列表現されたオブジェクトは、「デシリアライズ」という。"
   ]
  },
  {
   "cell_type": "code",
   "execution_count": 49,
   "metadata": {},
   "outputs": [
    {
     "name": "stdin",
     "output_type": "stream",
     "text": [
      "整数a: 3\n",
      "整数b: b\n"
     ]
    },
    {
     "name": "stdout",
     "output_type": "stream",
     "text": [
      "D\n",
      "G\n"
     ]
    }
   ],
   "source": [
    "# 28\n",
    "\n",
    "try:\n",
    "    int_a = int(input('整数a:'))\n",
    "    int_b = int(input('整数b:'))\n",
    "    print(int_a ** 2)\n",
    "    print((int_a ** 2) / int_b)\n",
    "except(ZeroDivisionError) :\n",
    "    print('C')\n",
    "except(ValueError) :\n",
    "    print('D')\n",
    "except:\n",
    "    print('E')\n",
    "else:\n",
    "    print('F')\n",
    "finally:\n",
    "    print('G')"
   ]
  },
  {
   "cell_type": "code",
   "execution_count": 50,
   "metadata": {},
   "outputs": [],
   "source": [
    "# 29\n",
    "\n",
    "# 発生した例外に値が付随することもあり、これを例外の引数と呼ぶ。except 節では、例外名の後に変数を指定することができる。\n",
    "# この変数には例外インスタンスが結び付けられており、例外インスタンスには「__str__()」が定義してある。"
   ]
  },
  {
   "cell_type": "code",
   "execution_count": 51,
   "metadata": {},
   "outputs": [
    {
     "name": "stdout",
     "output_type": "stream",
     "text": [
      "Magatama is a\n",
      "Saya's\n",
      "reliable\n",
      "partner\n"
     ]
    }
   ],
   "source": [
    "# 30\n",
    "\n",
    "# 31\n",
    "\n",
    "class kusanagi(Exception):\n",
    "    pass\n",
    "\n",
    "def raise_character(a):\n",
    "    print(\"Saya's\")\n",
    "    raise kusanagi\n",
    "    print(\"goofy\")\n",
    "\n",
    "def func(name: int):\n",
    "    try:\n",
    "        print(name, \"is a\")\n",
    "        raise_character(name)\n",
    "    except kusanagi:\n",
    "        print(\"reliable\")\n",
    "        raise Exception\n",
    "\n",
    "name = \"Magatama\"\n",
    "try:\n",
    "    func(name)\n",
    "except Exception:\n",
    "    print(\"partner\")"
   ]
  },
  {
   "cell_type": "code",
   "execution_count": 52,
   "metadata": {},
   "outputs": [
    {
     "name": "stdout",
     "output_type": "stream",
     "text": [
      "【D】 1\n",
      "【A】 2\n",
      "【B】 4\n",
      "【C】 4\n",
      "【E】 5\n"
     ]
    }
   ],
   "source": [
    "# 32\n",
    "\n",
    "loc = \"1\"\n",
    "def scope():\n",
    "    loc = \"2\"\n",
    "    def do_local():\n",
    "        loc = \"3\"\n",
    "    def do_nonlocal():\n",
    "        nonlocal loc\n",
    "        loc = \"4\"\n",
    "    def do_global():\n",
    "        global loc\n",
    "        loc = \"5\"\n",
    "\n",
    "    do_local()\n",
    "    print(\"【A】\", loc)\n",
    "    do_nonlocal()\n",
    "    print(\"【B】\", loc)\n",
    "    do_global()\n",
    "    print(\"【C】\", loc)\n",
    "\n",
    "print(\"【D】\", loc)\n",
    "scope()\n",
    "print(\"【E】\", loc)"
   ]
  },
  {
   "cell_type": "code",
   "execution_count": 54,
   "metadata": {},
   "outputs": [
    {
     "name": "stdout",
     "output_type": "stream",
     "text": [
      "Need Speed?\n",
      "I'm Saya.\n",
      "Need Speed?\n",
      "I'm David.\n"
     ]
    }
   ],
   "source": [
    "# 33\n",
    "\n",
    "class kusanagi():\n",
    "    def s(self):\n",
    "        print(\"Need Speed?\")\n",
    "        self.m()\n",
    "    def m(self): \n",
    "        print(\"I'm Saya.\")\n",
    "\n",
    "class wexal(kusanagi):\n",
    "        def m(self):\n",
    "            print(\"I'm David.\")\n",
    "\n",
    "k = kusanagi()\n",
    "w = wexal()\n",
    "k.s()\n",
    "w.s()"
   ]
  },
  {
   "cell_type": "code",
   "execution_count": 55,
   "metadata": {},
   "outputs": [
    {
     "ename": "TypeError",
     "evalue": "'NoneType' object is not subscriptable",
     "output_type": "error",
     "traceback": [
      "\u001b[0;31m---------------------------------------------------------------------------\u001b[0m",
      "\u001b[0;31mTypeError\u001b[0m                                 Traceback (most recent call last)",
      "\u001b[0;32m<ipython-input-55-447182e2a04e>\u001b[0m in \u001b[0;36m<module>\u001b[0;34m\u001b[0m\n\u001b[1;32m      6\u001b[0m \u001b[0mprog\u001b[0m \u001b[0;34m=\u001b[0m \u001b[0mre\u001b[0m\u001b[0;34m.\u001b[0m\u001b[0mcompile\u001b[0m\u001b[0;34m(\u001b[0m\u001b[0;34m'(K|S)u(r|s)(a|o)nf?(a|o)(o|m)?g?i?(saya)?'\u001b[0m\u001b[0;34m,\u001b[0m \u001b[0mre\u001b[0m\u001b[0;34m.\u001b[0m\u001b[0mIGNORECASE\u001b[0m\u001b[0;34m)\u001b[0m\u001b[0;34m\u001b[0m\u001b[0;34m\u001b[0m\u001b[0m\n\u001b[1;32m      7\u001b[0m \u001b[0mret\u001b[0m \u001b[0;34m=\u001b[0m \u001b[0mprog\u001b[0m\u001b[0;34m.\u001b[0m\u001b[0msearch\u001b[0m\u001b[0;34m(\u001b[0m\u001b[0;34m'SuZunone'\u001b[0m\u001b[0;34m)\u001b[0m\u001b[0;34m\u001b[0m\u001b[0;34m\u001b[0m\u001b[0m\n\u001b[0;32m----> 8\u001b[0;31m \u001b[0mprint\u001b[0m\u001b[0;34m(\u001b[0m\u001b[0mret\u001b[0m\u001b[0;34m[\u001b[0m\u001b[0;36m0\u001b[0m\u001b[0;34m]\u001b[0m\u001b[0;34m)\u001b[0m\u001b[0;34m\u001b[0m\u001b[0;34m\u001b[0m\u001b[0m\n\u001b[0m",
      "\u001b[0;31mTypeError\u001b[0m: 'NoneType' object is not subscriptable"
     ]
    }
   ],
   "source": [
    "# 34\n",
    "\n",
    "# 35\n",
    "\n",
    "import re\n",
    "prog = re.compile('(K|S)u(r|s)(a|o)nf?(a|o)(o|m)?g?i?(saya)?', re.IGNORECASE)\n",
    "ret = prog.search('SuZunone')\n",
    "print(ret[0])"
   ]
  },
  {
   "cell_type": "code",
   "execution_count": 56,
   "metadata": {},
   "outputs": [],
   "source": [
    "# 36\n",
    "\n",
    "# timeitモジュールを使うと、コード処理の実行時間を計測できる。\n",
    "# from timeit import Timer"
   ]
  },
  {
   "cell_type": "code",
   "execution_count": null,
   "metadata": {},
   "outputs": [],
   "source": [
    "# 37\n",
    "\n",
    "# 38\n",
    "\n",
    "# 39\n",
    "\n",
    "# 40"
   ]
  }
 ],
 "metadata": {
  "kernelspec": {
   "display_name": "Python 3",
   "language": "python",
   "name": "python3"
  },
  "language_info": {
   "codemirror_mode": {
    "name": "ipython",
    "version": 3
   },
   "file_extension": ".py",
   "mimetype": "text/x-python",
   "name": "python",
   "nbconvert_exporter": "python",
   "pygments_lexer": "ipython3",
   "version": "3.7.6"
  }
 },
 "nbformat": 4,
 "nbformat_minor": 4
}
